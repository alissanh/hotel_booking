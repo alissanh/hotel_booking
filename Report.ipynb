{
 "cells": [
  {
   "cell_type": "code",
   "execution_count": 1,
   "id": "62bc3044-4fff-4edf-8ac9-8a9af285fd80",
   "metadata": {
    "tags": []
   },
   "outputs": [
    {
     "name": "stdout",
     "output_type": "stream",
     "text": [
      "Requirement already satisfied: altair in /opt/conda/lib/python3.10/site-packages (4.2.2)\n",
      "Requirement already satisfied: pandas>=0.18 in /opt/conda/lib/python3.10/site-packages (from altair) (1.5.3)\n",
      "Requirement already satisfied: entrypoints in /opt/conda/lib/python3.10/site-packages (from altair) (0.4)\n",
      "Requirement already satisfied: jsonschema>=3.0 in /opt/conda/lib/python3.10/site-packages (from altair) (4.17.3)\n",
      "Requirement already satisfied: jinja2 in /opt/conda/lib/python3.10/site-packages (from altair) (3.1.2)\n",
      "Requirement already satisfied: numpy in /opt/conda/lib/python3.10/site-packages (from altair) (1.23.5)\n",
      "Requirement already satisfied: toolz in /opt/conda/lib/python3.10/site-packages (from altair) (0.12.0)\n",
      "Requirement already satisfied: pyrsistent!=0.17.0,!=0.17.1,!=0.17.2,>=0.14.0 in /opt/conda/lib/python3.10/site-packages (from jsonschema>=3.0->altair) (0.19.3)\n",
      "Requirement already satisfied: attrs>=17.4.0 in /opt/conda/lib/python3.10/site-packages (from jsonschema>=3.0->altair) (22.2.0)\n",
      "Requirement already satisfied: python-dateutil>=2.8.1 in /opt/conda/lib/python3.10/site-packages (from pandas>=0.18->altair) (2.8.2)\n",
      "Requirement already satisfied: pytz>=2020.1 in /opt/conda/lib/python3.10/site-packages (from pandas>=0.18->altair) (2022.7.1)\n",
      "Requirement already satisfied: MarkupSafe>=2.0 in /opt/conda/lib/python3.10/site-packages (from jinja2->altair) (2.1.2)\n",
      "Requirement already satisfied: six>=1.5 in /opt/conda/lib/python3.10/site-packages (from python-dateutil>=2.8.1->pandas>=0.18->altair) (1.16.0)\n",
      "Note: you may need to restart the kernel to use updated packages.\n"
     ]
    }
   ],
   "source": [
    "pip install altair"
   ]
  },
  {
   "cell_type": "code",
   "execution_count": 2,
   "id": "1c5ed829-f58d-434f-a5e7-2e55b9520e97",
   "metadata": {
    "tags": []
   },
   "outputs": [],
   "source": [
    "import altair as alt\n",
    "import numpy as np\n",
    "import pandas as pd"
   ]
  },
  {
   "cell_type": "code",
   "execution_count": 3,
   "id": "8c093ce2-569b-4349-88a8-59a0f839b249",
   "metadata": {
    "tags": []
   },
   "outputs": [],
   "source": [
    "from sklearn.model_selection import train_test_split\n",
    "from sklearn.preprocessing import StandardScaler\n",
    "from sklearn.compose import make_column_transformer\n",
    "from sklearn.neighbors import KNeighborsClassifier\n",
    "from sklearn.pipeline import make_pipeline\n",
    "from sklearn.model_selection import GridSearchCV"
   ]
  },
  {
   "cell_type": "markdown",
   "id": "f743b87b-61aa-4f4e-9b32-7aaebdaf383b",
   "metadata": {},
   "source": [
    "## Predicting a Canceled Hotel Booking"
   ]
  },
  {
   "cell_type": "markdown",
   "id": "654b85f9-391e-4865-b728-486e7cb9cf22",
   "metadata": {
    "tags": []
   },
   "source": [
    "## Introduction "
   ]
  },
  {
   "cell_type": "markdown",
   "id": "e4b6370d-df70-499b-9404-400f4ce97347",
   "metadata": {},
   "source": [
    "Every year, many hotel bookings are made and sometimes these bookings are canceled. This can cause the hotel to lose money and business. This data set contains information about hotel bookings, details about guests, their reservations, hotel attributes, and whether the reservations were canceled. We will use the columns \"lead_time\" (the number of days between when the reservation is made and the booking itself), \"arrival_date_month\" (the month of the year the booking is made for), and \"adr\" (the average daily rate of the room) to classify a booking as either canceled or not canceled using the \"is_canceled\" column. We will use the results of our analysis to suggest ways in which hotels can improve their business model so less guests cancel reservations."
   ]
  },
  {
   "cell_type": "markdown",
   "id": "1f055a0c-8e9c-4968-9e0d-99f48eb09fae",
   "metadata": {},
   "source": [
    "[Hotel Booking Dataset on Kaggle](https://www.kaggle.com/datasets/saadharoon27/hotel-booking-dataset)\n",
    "\n",
    "Data Atrributes:\n",
    "\n",
    "- hotel: The type of hotel, either \"City Hotel\" or \"Resort Hotel.\"\n",
    "- is_canceled: Binary value indicating whether the booking was cancelled (1) or not (0).\n",
    "- lead_time: Number of days between booking and arrival.\n",
    "- arrival_date_year: Year of arrival date.\n",
    "- arrival_date_month: Month of arrival date.\n",
    "- arrival_date_week_number: Week number of arrival date.\n",
    "- arrival_date_day_of_month: Day of the month of arrival date.\n",
    "- stays_in_weekend_nights: Number of weekend nights (Saturday or Sunday) the guest stays.\n",
    "- stays_in_week_nights: Number of weekday nights (Monday to Friday) the guest stays.\n",
    "- adults: Number of adults.\n",
    "- children: Number of children.\n",
    "- babies: Number of babies.\n",
    "- meal: Type of meal booked.\n",
    "- country: Country of origin.\n",
    "- market_segment: Market segment designation.\n",
    "- distribution_channel: Booking distribution channel.\n",
    "- is_repeated_guest: Binary value indicating whether the guest is a repeated guest (1) or not (0).\n",
    "- previous_cancellations: Number of previous booking cancellations.\n",
    "- previous_bookings_not_canceled: Number of previous bookings not cancelled.\n",
    "- reserved_room_type: Code of room type reserved.\n",
    "- assigned_room_type: Code of room type assigned at check-in.\n",
    "- booking_changes: Number of changes/amendments made to the booking.\n",
    "- deposit_type: Type of deposit made.\n",
    "- agent: ID of the travel agency.\n",
    "- company: ID of the company.\n",
    "- days_in_waiting_list: Number of days in the waiting list before booking.\n",
    "- customer_type: Type of booking.\n",
    "- adr: Average daily rate.\n",
    "- required_car_parking_spaces: Number of car parking spaces required.\n",
    "- total_of_special_requests: Number of special requests made.\n",
    "- reservation_status: Reservation last status.\n",
    "- reservation_status_date: Date of the last status.\n",
    "- name: Guest's name. (Not Real)\n",
    "- email: Guest's email address.(Not Real)\n",
    "- phone-number: Guest's phone number. (Not Real)\n",
    "- credit_card: Guest's credit card details. (Not Real)"
   ]
  },
  {
   "cell_type": "markdown",
   "id": "df9db3af-ffeb-404d-97c3-8984b15429a8",
   "metadata": {
    "tags": []
   },
   "source": [
    "## Methods and Results"
   ]
  },
  {
   "cell_type": "markdown",
   "id": "d9fa4a78-7570-497a-ae57-b82149af16cd",
   "metadata": {
    "tags": []
   },
   "source": [
    "### Preliminary exploratory data analysis:"
   ]
  },
  {
   "cell_type": "markdown",
   "id": "0b6e8390-404e-453e-ab3a-401a751182ca",
   "metadata": {},
   "source": [
    "#### Importing data:"
   ]
  },
  {
   "cell_type": "code",
   "execution_count": 4,
   "id": "f451c5ed-a403-4962-9f26-e0a379b9209e",
   "metadata": {},
   "outputs": [
    {
     "data": {
      "text/html": [
       "<div>\n",
       "<style scoped>\n",
       "    .dataframe tbody tr th:only-of-type {\n",
       "        vertical-align: middle;\n",
       "    }\n",
       "\n",
       "    .dataframe tbody tr th {\n",
       "        vertical-align: top;\n",
       "    }\n",
       "\n",
       "    .dataframe thead th {\n",
       "        text-align: right;\n",
       "    }\n",
       "</style>\n",
       "<table border=\"1\" class=\"dataframe\">\n",
       "  <thead>\n",
       "    <tr style=\"text-align: right;\">\n",
       "      <th></th>\n",
       "      <th>hotel</th>\n",
       "      <th>is_canceled</th>\n",
       "      <th>lead_time</th>\n",
       "      <th>arrival_date_year</th>\n",
       "      <th>arrival_date_month</th>\n",
       "      <th>arrival_date_week_number</th>\n",
       "      <th>arrival_date_day_of_month</th>\n",
       "      <th>stays_in_weekend_nights</th>\n",
       "      <th>stays_in_week_nights</th>\n",
       "      <th>adults</th>\n",
       "      <th>...</th>\n",
       "      <th>customer_type</th>\n",
       "      <th>adr</th>\n",
       "      <th>required_car_parking_spaces</th>\n",
       "      <th>total_of_special_requests</th>\n",
       "      <th>reservation_status</th>\n",
       "      <th>reservation_status_date</th>\n",
       "      <th>name</th>\n",
       "      <th>email</th>\n",
       "      <th>phone-number</th>\n",
       "      <th>credit_card</th>\n",
       "    </tr>\n",
       "  </thead>\n",
       "  <tbody>\n",
       "    <tr>\n",
       "      <th>0</th>\n",
       "      <td>Resort Hotel</td>\n",
       "      <td>0</td>\n",
       "      <td>342</td>\n",
       "      <td>2015</td>\n",
       "      <td>July</td>\n",
       "      <td>27</td>\n",
       "      <td>1</td>\n",
       "      <td>0</td>\n",
       "      <td>0</td>\n",
       "      <td>2</td>\n",
       "      <td>...</td>\n",
       "      <td>Transient</td>\n",
       "      <td>0.0</td>\n",
       "      <td>0</td>\n",
       "      <td>0</td>\n",
       "      <td>Check-Out</td>\n",
       "      <td>2015-07-01</td>\n",
       "      <td>Ernest Barnes</td>\n",
       "      <td>Ernest.Barnes31@outlook.com</td>\n",
       "      <td>669-792-1661</td>\n",
       "      <td>************4322</td>\n",
       "    </tr>\n",
       "    <tr>\n",
       "      <th>1</th>\n",
       "      <td>Resort Hotel</td>\n",
       "      <td>0</td>\n",
       "      <td>737</td>\n",
       "      <td>2015</td>\n",
       "      <td>July</td>\n",
       "      <td>27</td>\n",
       "      <td>1</td>\n",
       "      <td>0</td>\n",
       "      <td>0</td>\n",
       "      <td>2</td>\n",
       "      <td>...</td>\n",
       "      <td>Transient</td>\n",
       "      <td>0.0</td>\n",
       "      <td>0</td>\n",
       "      <td>0</td>\n",
       "      <td>Check-Out</td>\n",
       "      <td>2015-07-01</td>\n",
       "      <td>Andrea Baker</td>\n",
       "      <td>Andrea_Baker94@aol.com</td>\n",
       "      <td>858-637-6955</td>\n",
       "      <td>************9157</td>\n",
       "    </tr>\n",
       "    <tr>\n",
       "      <th>2</th>\n",
       "      <td>Resort Hotel</td>\n",
       "      <td>0</td>\n",
       "      <td>7</td>\n",
       "      <td>2015</td>\n",
       "      <td>July</td>\n",
       "      <td>27</td>\n",
       "      <td>1</td>\n",
       "      <td>0</td>\n",
       "      <td>1</td>\n",
       "      <td>1</td>\n",
       "      <td>...</td>\n",
       "      <td>Transient</td>\n",
       "      <td>75.0</td>\n",
       "      <td>0</td>\n",
       "      <td>0</td>\n",
       "      <td>Check-Out</td>\n",
       "      <td>2015-07-02</td>\n",
       "      <td>Rebecca Parker</td>\n",
       "      <td>Rebecca_Parker@comcast.net</td>\n",
       "      <td>652-885-2745</td>\n",
       "      <td>************3734</td>\n",
       "    </tr>\n",
       "    <tr>\n",
       "      <th>3</th>\n",
       "      <td>Resort Hotel</td>\n",
       "      <td>0</td>\n",
       "      <td>13</td>\n",
       "      <td>2015</td>\n",
       "      <td>July</td>\n",
       "      <td>27</td>\n",
       "      <td>1</td>\n",
       "      <td>0</td>\n",
       "      <td>1</td>\n",
       "      <td>1</td>\n",
       "      <td>...</td>\n",
       "      <td>Transient</td>\n",
       "      <td>75.0</td>\n",
       "      <td>0</td>\n",
       "      <td>0</td>\n",
       "      <td>Check-Out</td>\n",
       "      <td>2015-07-02</td>\n",
       "      <td>Laura Murray</td>\n",
       "      <td>Laura_M@gmail.com</td>\n",
       "      <td>364-656-8427</td>\n",
       "      <td>************5677</td>\n",
       "    </tr>\n",
       "    <tr>\n",
       "      <th>4</th>\n",
       "      <td>Resort Hotel</td>\n",
       "      <td>0</td>\n",
       "      <td>14</td>\n",
       "      <td>2015</td>\n",
       "      <td>July</td>\n",
       "      <td>27</td>\n",
       "      <td>1</td>\n",
       "      <td>0</td>\n",
       "      <td>2</td>\n",
       "      <td>2</td>\n",
       "      <td>...</td>\n",
       "      <td>Transient</td>\n",
       "      <td>98.0</td>\n",
       "      <td>0</td>\n",
       "      <td>1</td>\n",
       "      <td>Check-Out</td>\n",
       "      <td>2015-07-03</td>\n",
       "      <td>Linda Hines</td>\n",
       "      <td>LHines@verizon.com</td>\n",
       "      <td>713-226-5883</td>\n",
       "      <td>************5498</td>\n",
       "    </tr>\n",
       "  </tbody>\n",
       "</table>\n",
       "<p>5 rows × 36 columns</p>\n",
       "</div>"
      ],
      "text/plain": [
       "          hotel  is_canceled  lead_time  arrival_date_year arrival_date_month  \\\n",
       "0  Resort Hotel            0        342               2015               July   \n",
       "1  Resort Hotel            0        737               2015               July   \n",
       "2  Resort Hotel            0          7               2015               July   \n",
       "3  Resort Hotel            0         13               2015               July   \n",
       "4  Resort Hotel            0         14               2015               July   \n",
       "\n",
       "   arrival_date_week_number  arrival_date_day_of_month  \\\n",
       "0                        27                          1   \n",
       "1                        27                          1   \n",
       "2                        27                          1   \n",
       "3                        27                          1   \n",
       "4                        27                          1   \n",
       "\n",
       "   stays_in_weekend_nights  stays_in_week_nights  adults  ...  customer_type  \\\n",
       "0                        0                     0       2  ...      Transient   \n",
       "1                        0                     0       2  ...      Transient   \n",
       "2                        0                     1       1  ...      Transient   \n",
       "3                        0                     1       1  ...      Transient   \n",
       "4                        0                     2       2  ...      Transient   \n",
       "\n",
       "    adr required_car_parking_spaces total_of_special_requests  \\\n",
       "0   0.0                           0                         0   \n",
       "1   0.0                           0                         0   \n",
       "2  75.0                           0                         0   \n",
       "3  75.0                           0                         0   \n",
       "4  98.0                           0                         1   \n",
       "\n",
       "  reservation_status reservation_status_date            name  \\\n",
       "0          Check-Out              2015-07-01   Ernest Barnes   \n",
       "1          Check-Out              2015-07-01    Andrea Baker   \n",
       "2          Check-Out              2015-07-02  Rebecca Parker   \n",
       "3          Check-Out              2015-07-02    Laura Murray   \n",
       "4          Check-Out              2015-07-03     Linda Hines   \n",
       "\n",
       "                         email  phone-number       credit_card  \n",
       "0  Ernest.Barnes31@outlook.com  669-792-1661  ************4322  \n",
       "1       Andrea_Baker94@aol.com  858-637-6955  ************9157  \n",
       "2   Rebecca_Parker@comcast.net  652-885-2745  ************3734  \n",
       "3            Laura_M@gmail.com  364-656-8427  ************5677  \n",
       "4           LHines@verizon.com  713-226-5883  ************5498  \n",
       "\n",
       "[5 rows x 36 columns]"
      ]
     },
     "execution_count": 4,
     "metadata": {},
     "output_type": "execute_result"
    }
   ],
   "source": [
    "# Import the data from a google docs spreadsheet\n",
    "url = \"https://docs.google.com/spreadsheets/d/e/2PACX-1vTdwTKkB_43NV_73UYihNEO66dAc4V_7cMmO77qsMsSjuZdXhqRiiauabSfHMmoKL70SMLpBYZecdbQ/pub?gid=1065236226&single=true&output=csv\"\n",
    "hotel_booking_full = pd.read_csv(url)\n",
    "hotel_booking_full.head()"
   ]
  },
  {
   "cell_type": "markdown",
   "id": "6af230a7-6c8d-4582-932f-e031a8027d81",
   "metadata": {},
   "source": [
    "##### Altair can only take data up to 5000 entries so we will scale down our data"
   ]
  },
  {
   "cell_type": "code",
   "execution_count": 5,
   "id": "be2fc17c-e232-4ddd-95e3-fffb00cb6a23",
   "metadata": {
    "tags": []
   },
   "outputs": [],
   "source": [
    "# Scale down our data to 5000 entries\n",
    "hotel_booking = hotel_booking_full[hotel_booking_full['lead_time'].apply(lambda x: isinstance(x, int))][0:5000]"
   ]
  },
  {
   "cell_type": "code",
   "execution_count": 6,
   "id": "f202d637-7eeb-4a8c-bffc-e317b262661d",
   "metadata": {
    "tags": []
   },
   "outputs": [
    {
     "data": {
      "text/plain": [
       "(5000, 36)"
      ]
     },
     "execution_count": 6,
     "metadata": {},
     "output_type": "execute_result"
    }
   ],
   "source": [
    "# Display the amount of columns and rows\n",
    "hotel_booking.shape"
   ]
  },
  {
   "cell_type": "code",
   "execution_count": 7,
   "id": "01000831-c921-4a59-a595-e9b47655b15c",
   "metadata": {
    "tags": []
   },
   "outputs": [
    {
     "data": {
      "text/plain": [
       "0      198\n",
       "1       97\n",
       "78      79\n",
       "2       72\n",
       "36      68\n",
       "      ... \n",
       "382      1\n",
       "344      1\n",
       "248      1\n",
       "336      1\n",
       "342      1\n",
       "Name: lead_time, Length: 272, dtype: int64"
      ]
     },
     "execution_count": 7,
     "metadata": {},
     "output_type": "execute_result"
    }
   ],
   "source": [
    "hotel_booking['lead_time'].value_counts()"
   ]
  },
  {
   "cell_type": "code",
   "execution_count": 8,
   "id": "1602d25d-1a3e-4a5d-a372-d6ce96790705",
   "metadata": {
    "tags": []
   },
   "outputs": [
    {
     "data": {
      "text/plain": [
       "hotel                              object\n",
       "is_canceled                         int64\n",
       "lead_time                           int64\n",
       "arrival_date_year                   int64\n",
       "arrival_date_month                 object\n",
       "arrival_date_week_number            int64\n",
       "arrival_date_day_of_month           int64\n",
       "stays_in_weekend_nights             int64\n",
       "stays_in_week_nights                int64\n",
       "adults                              int64\n",
       "children                          float64\n",
       "babies                              int64\n",
       "meal                               object\n",
       "country                            object\n",
       "market_segment                     object\n",
       "distribution_channel               object\n",
       "is_repeated_guest                   int64\n",
       "previous_cancellations              int64\n",
       "previous_bookings_not_canceled      int64\n",
       "reserved_room_type                 object\n",
       "assigned_room_type                 object\n",
       "booking_changes                     int64\n",
       "deposit_type                       object\n",
       "agent                             float64\n",
       "company                           float64\n",
       "days_in_waiting_list                int64\n",
       "customer_type                      object\n",
       "adr                               float64\n",
       "required_car_parking_spaces         int64\n",
       "total_of_special_requests           int64\n",
       "reservation_status                 object\n",
       "reservation_status_date            object\n",
       "name                               object\n",
       "email                              object\n",
       "phone-number                       object\n",
       "credit_card                        object\n",
       "dtype: object"
      ]
     },
     "execution_count": 8,
     "metadata": {},
     "output_type": "execute_result"
    }
   ],
   "source": [
    "# Display the data types in the data frame\n",
    "hotel_booking.dtypes"
   ]
  },
  {
   "cell_type": "markdown",
   "id": "e955b084-c687-415c-ba5a-e2c36b20154c",
   "metadata": {},
   "source": [
    "#### Nulls:"
   ]
  },
  {
   "cell_type": "code",
   "execution_count": 9,
   "id": "bbb9dfa5-4733-4b19-8762-219762ac4ba1",
   "metadata": {
    "tags": []
   },
   "outputs": [
    {
     "data": {
      "text/plain": [
       "hotel                                0\n",
       "is_canceled                          0\n",
       "lead_time                            0\n",
       "arrival_date_year                    0\n",
       "arrival_date_month                   0\n",
       "arrival_date_week_number             0\n",
       "arrival_date_day_of_month            0\n",
       "stays_in_weekend_nights              0\n",
       "stays_in_week_nights                 0\n",
       "adults                               0\n",
       "children                             0\n",
       "babies                               0\n",
       "meal                                 0\n",
       "country                              2\n",
       "market_segment                       0\n",
       "distribution_channel                 0\n",
       "is_repeated_guest                    0\n",
       "previous_cancellations               0\n",
       "previous_bookings_not_canceled       0\n",
       "reserved_room_type                   0\n",
       "assigned_room_type                   0\n",
       "booking_changes                      0\n",
       "deposit_type                         0\n",
       "agent                              814\n",
       "company                           4708\n",
       "days_in_waiting_list                 0\n",
       "customer_type                        0\n",
       "adr                                  0\n",
       "required_car_parking_spaces          0\n",
       "total_of_special_requests            0\n",
       "reservation_status                   0\n",
       "reservation_status_date              0\n",
       "name                                 0\n",
       "email                                0\n",
       "phone-number                         0\n",
       "credit_card                          0\n",
       "dtype: int64"
      ]
     },
     "execution_count": 9,
     "metadata": {},
     "output_type": "execute_result"
    }
   ],
   "source": [
    "# Display the number of null values in the data frame\n",
    "hotel_booking.isna().sum()"
   ]
  },
  {
   "cell_type": "markdown",
   "id": "b880bf28-d9b3-4bc5-b0f3-254c861e21a9",
   "metadata": {},
   "source": [
    "There are only null values in columns \"agent\", \"company\", and \"country\". Since we will not use these columns for our analysis, rather than removing all the bookings with null values, we will remove these columns instead."
   ]
  },
  {
   "cell_type": "code",
   "execution_count": 10,
   "id": "dbc36f22-530c-4a1c-be86-b7d0ca4a3dfb",
   "metadata": {
    "tags": []
   },
   "outputs": [
    {
     "data": {
      "text/plain": [
       "Index(['hotel', 'is_canceled', 'lead_time', 'arrival_date_year',\n",
       "       'arrival_date_month', 'arrival_date_week_number',\n",
       "       'arrival_date_day_of_month', 'stays_in_weekend_nights',\n",
       "       'stays_in_week_nights', 'adults', 'children', 'babies', 'meal',\n",
       "       'market_segment', 'distribution_channel', 'is_repeated_guest',\n",
       "       'previous_cancellations', 'previous_bookings_not_canceled',\n",
       "       'reserved_room_type', 'assigned_room_type', 'booking_changes',\n",
       "       'deposit_type', 'days_in_waiting_list', 'customer_type', 'adr',\n",
       "       'required_car_parking_spaces', 'total_of_special_requests',\n",
       "       'reservation_status', 'reservation_status_date', 'name', 'email',\n",
       "       'phone-number', 'credit_card'],\n",
       "      dtype='object')"
      ]
     },
     "execution_count": 10,
     "metadata": {},
     "output_type": "execute_result"
    }
   ],
   "source": [
    "# Remove the columns \"agent\" and \"company\"\n",
    "hotel_booking = hotel_booking.drop(columns=['agent', 'company', 'country'])\n",
    "hotel_booking.columns"
   ]
  },
  {
   "cell_type": "markdown",
   "id": "c9fb3bc4-d0ab-442e-865b-f4c6f91837ae",
   "metadata": {},
   "source": [
    "#### Infomation about the FULL dataset:"
   ]
  },
  {
   "cell_type": "code",
   "execution_count": 11,
   "id": "a330f5a4-02d2-4ebc-9c52-876e66c21e31",
   "metadata": {
    "tags": []
   },
   "outputs": [
    {
     "data": {
      "text/html": [
       "<div>\n",
       "<style scoped>\n",
       "    .dataframe tbody tr th:only-of-type {\n",
       "        vertical-align: middle;\n",
       "    }\n",
       "\n",
       "    .dataframe tbody tr th {\n",
       "        vertical-align: top;\n",
       "    }\n",
       "\n",
       "    .dataframe thead th {\n",
       "        text-align: right;\n",
       "    }\n",
       "</style>\n",
       "<table border=\"1\" class=\"dataframe\">\n",
       "  <thead>\n",
       "    <tr style=\"text-align: right;\">\n",
       "      <th></th>\n",
       "      <th>name</th>\n",
       "      <th>non-nulls</th>\n",
       "      <th>nulls</th>\n",
       "      <th>type</th>\n",
       "    </tr>\n",
       "  </thead>\n",
       "  <tbody>\n",
       "    <tr>\n",
       "      <th>0</th>\n",
       "      <td>hotel</td>\n",
       "      <td>5000</td>\n",
       "      <td>0</td>\n",
       "      <td>object</td>\n",
       "    </tr>\n",
       "    <tr>\n",
       "      <th>1</th>\n",
       "      <td>is_canceled</td>\n",
       "      <td>5000</td>\n",
       "      <td>0</td>\n",
       "      <td>int64</td>\n",
       "    </tr>\n",
       "    <tr>\n",
       "      <th>2</th>\n",
       "      <td>lead_time</td>\n",
       "      <td>5000</td>\n",
       "      <td>0</td>\n",
       "      <td>int64</td>\n",
       "    </tr>\n",
       "    <tr>\n",
       "      <th>3</th>\n",
       "      <td>arrival_date_year</td>\n",
       "      <td>5000</td>\n",
       "      <td>0</td>\n",
       "      <td>int64</td>\n",
       "    </tr>\n",
       "    <tr>\n",
       "      <th>4</th>\n",
       "      <td>arrival_date_month</td>\n",
       "      <td>5000</td>\n",
       "      <td>0</td>\n",
       "      <td>object</td>\n",
       "    </tr>\n",
       "    <tr>\n",
       "      <th>5</th>\n",
       "      <td>arrival_date_week_number</td>\n",
       "      <td>5000</td>\n",
       "      <td>0</td>\n",
       "      <td>int64</td>\n",
       "    </tr>\n",
       "    <tr>\n",
       "      <th>6</th>\n",
       "      <td>arrival_date_day_of_month</td>\n",
       "      <td>5000</td>\n",
       "      <td>0</td>\n",
       "      <td>int64</td>\n",
       "    </tr>\n",
       "    <tr>\n",
       "      <th>7</th>\n",
       "      <td>stays_in_weekend_nights</td>\n",
       "      <td>5000</td>\n",
       "      <td>0</td>\n",
       "      <td>int64</td>\n",
       "    </tr>\n",
       "    <tr>\n",
       "      <th>8</th>\n",
       "      <td>stays_in_week_nights</td>\n",
       "      <td>5000</td>\n",
       "      <td>0</td>\n",
       "      <td>int64</td>\n",
       "    </tr>\n",
       "    <tr>\n",
       "      <th>9</th>\n",
       "      <td>adults</td>\n",
       "      <td>5000</td>\n",
       "      <td>0</td>\n",
       "      <td>int64</td>\n",
       "    </tr>\n",
       "    <tr>\n",
       "      <th>10</th>\n",
       "      <td>children</td>\n",
       "      <td>5000</td>\n",
       "      <td>0</td>\n",
       "      <td>float64</td>\n",
       "    </tr>\n",
       "    <tr>\n",
       "      <th>11</th>\n",
       "      <td>babies</td>\n",
       "      <td>5000</td>\n",
       "      <td>0</td>\n",
       "      <td>int64</td>\n",
       "    </tr>\n",
       "    <tr>\n",
       "      <th>12</th>\n",
       "      <td>meal</td>\n",
       "      <td>5000</td>\n",
       "      <td>0</td>\n",
       "      <td>object</td>\n",
       "    </tr>\n",
       "    <tr>\n",
       "      <th>13</th>\n",
       "      <td>market_segment</td>\n",
       "      <td>5000</td>\n",
       "      <td>0</td>\n",
       "      <td>object</td>\n",
       "    </tr>\n",
       "    <tr>\n",
       "      <th>14</th>\n",
       "      <td>distribution_channel</td>\n",
       "      <td>5000</td>\n",
       "      <td>0</td>\n",
       "      <td>object</td>\n",
       "    </tr>\n",
       "    <tr>\n",
       "      <th>15</th>\n",
       "      <td>is_repeated_guest</td>\n",
       "      <td>5000</td>\n",
       "      <td>0</td>\n",
       "      <td>int64</td>\n",
       "    </tr>\n",
       "    <tr>\n",
       "      <th>16</th>\n",
       "      <td>previous_cancellations</td>\n",
       "      <td>5000</td>\n",
       "      <td>0</td>\n",
       "      <td>int64</td>\n",
       "    </tr>\n",
       "    <tr>\n",
       "      <th>17</th>\n",
       "      <td>previous_bookings_not_canceled</td>\n",
       "      <td>5000</td>\n",
       "      <td>0</td>\n",
       "      <td>int64</td>\n",
       "    </tr>\n",
       "    <tr>\n",
       "      <th>18</th>\n",
       "      <td>reserved_room_type</td>\n",
       "      <td>5000</td>\n",
       "      <td>0</td>\n",
       "      <td>object</td>\n",
       "    </tr>\n",
       "    <tr>\n",
       "      <th>19</th>\n",
       "      <td>assigned_room_type</td>\n",
       "      <td>5000</td>\n",
       "      <td>0</td>\n",
       "      <td>object</td>\n",
       "    </tr>\n",
       "    <tr>\n",
       "      <th>20</th>\n",
       "      <td>booking_changes</td>\n",
       "      <td>5000</td>\n",
       "      <td>0</td>\n",
       "      <td>int64</td>\n",
       "    </tr>\n",
       "    <tr>\n",
       "      <th>21</th>\n",
       "      <td>deposit_type</td>\n",
       "      <td>5000</td>\n",
       "      <td>0</td>\n",
       "      <td>object</td>\n",
       "    </tr>\n",
       "    <tr>\n",
       "      <th>22</th>\n",
       "      <td>days_in_waiting_list</td>\n",
       "      <td>5000</td>\n",
       "      <td>0</td>\n",
       "      <td>int64</td>\n",
       "    </tr>\n",
       "    <tr>\n",
       "      <th>23</th>\n",
       "      <td>customer_type</td>\n",
       "      <td>5000</td>\n",
       "      <td>0</td>\n",
       "      <td>object</td>\n",
       "    </tr>\n",
       "    <tr>\n",
       "      <th>24</th>\n",
       "      <td>adr</td>\n",
       "      <td>5000</td>\n",
       "      <td>0</td>\n",
       "      <td>float64</td>\n",
       "    </tr>\n",
       "    <tr>\n",
       "      <th>25</th>\n",
       "      <td>required_car_parking_spaces</td>\n",
       "      <td>5000</td>\n",
       "      <td>0</td>\n",
       "      <td>int64</td>\n",
       "    </tr>\n",
       "    <tr>\n",
       "      <th>26</th>\n",
       "      <td>total_of_special_requests</td>\n",
       "      <td>5000</td>\n",
       "      <td>0</td>\n",
       "      <td>int64</td>\n",
       "    </tr>\n",
       "    <tr>\n",
       "      <th>27</th>\n",
       "      <td>reservation_status</td>\n",
       "      <td>5000</td>\n",
       "      <td>0</td>\n",
       "      <td>object</td>\n",
       "    </tr>\n",
       "    <tr>\n",
       "      <th>28</th>\n",
       "      <td>reservation_status_date</td>\n",
       "      <td>5000</td>\n",
       "      <td>0</td>\n",
       "      <td>object</td>\n",
       "    </tr>\n",
       "    <tr>\n",
       "      <th>29</th>\n",
       "      <td>name</td>\n",
       "      <td>5000</td>\n",
       "      <td>0</td>\n",
       "      <td>object</td>\n",
       "    </tr>\n",
       "    <tr>\n",
       "      <th>30</th>\n",
       "      <td>email</td>\n",
       "      <td>5000</td>\n",
       "      <td>0</td>\n",
       "      <td>object</td>\n",
       "    </tr>\n",
       "    <tr>\n",
       "      <th>31</th>\n",
       "      <td>phone-number</td>\n",
       "      <td>5000</td>\n",
       "      <td>0</td>\n",
       "      <td>object</td>\n",
       "    </tr>\n",
       "    <tr>\n",
       "      <th>32</th>\n",
       "      <td>credit_card</td>\n",
       "      <td>5000</td>\n",
       "      <td>0</td>\n",
       "      <td>object</td>\n",
       "    </tr>\n",
       "  </tbody>\n",
       "</table>\n",
       "</div>"
      ],
      "text/plain": [
       "                              name  non-nulls  nulls     type\n",
       "0                            hotel       5000      0   object\n",
       "1                      is_canceled       5000      0    int64\n",
       "2                        lead_time       5000      0    int64\n",
       "3                arrival_date_year       5000      0    int64\n",
       "4               arrival_date_month       5000      0   object\n",
       "5         arrival_date_week_number       5000      0    int64\n",
       "6        arrival_date_day_of_month       5000      0    int64\n",
       "7          stays_in_weekend_nights       5000      0    int64\n",
       "8             stays_in_week_nights       5000      0    int64\n",
       "9                           adults       5000      0    int64\n",
       "10                        children       5000      0  float64\n",
       "11                          babies       5000      0    int64\n",
       "12                            meal       5000      0   object\n",
       "13                  market_segment       5000      0   object\n",
       "14            distribution_channel       5000      0   object\n",
       "15               is_repeated_guest       5000      0    int64\n",
       "16          previous_cancellations       5000      0    int64\n",
       "17  previous_bookings_not_canceled       5000      0    int64\n",
       "18              reserved_room_type       5000      0   object\n",
       "19              assigned_room_type       5000      0   object\n",
       "20                 booking_changes       5000      0    int64\n",
       "21                    deposit_type       5000      0   object\n",
       "22            days_in_waiting_list       5000      0    int64\n",
       "23                   customer_type       5000      0   object\n",
       "24                             adr       5000      0  float64\n",
       "25     required_car_parking_spaces       5000      0    int64\n",
       "26       total_of_special_requests       5000      0    int64\n",
       "27              reservation_status       5000      0   object\n",
       "28         reservation_status_date       5000      0   object\n",
       "29                            name       5000      0   object\n",
       "30                           email       5000      0   object\n",
       "31                    phone-number       5000      0   object\n",
       "32                     credit_card       5000      0   object"
      ]
     },
     "execution_count": 11,
     "metadata": {},
     "output_type": "execute_result"
    }
   ],
   "source": [
    "# Display the columns with the number of non null values, null values and its data type\n",
    "hotel_booking_info = pd.DataFrame({\"name\": hotel_booking.columns, \n",
    "                                   \"non-nulls\": len(hotel_booking)-hotel_booking.isnull().sum().values, \n",
    "                                   \"nulls\": hotel_booking.isnull().sum().values, \n",
    "                                   \"type\": hotel_booking.dtypes.values})\n",
    "hotel_booking_info"
   ]
  },
  {
   "cell_type": "markdown",
   "id": "44a934a9-aac8-4e13-b62f-c5659da844d0",
   "metadata": {},
   "source": [
    "#### Distribution of cancelled vs not cancelled reservations:"
   ]
  },
  {
   "cell_type": "code",
   "execution_count": 13,
   "id": "b55ca9e7-636b-4b75-9bfe-d5a1ee533a00",
   "metadata": {
    "tags": []
   },
   "outputs": [
    {
     "data": {
      "text/plain": [
       "0    2702\n",
       "1    2298\n",
       "Name: is_canceled, dtype: int64"
      ]
     },
     "execution_count": 13,
     "metadata": {},
     "output_type": "execute_result"
    }
   ],
   "source": [
    "# Display the number of canceled and not canceled bookings\n",
    "hotel_booking['is_canceled'].value_counts()"
   ]
  },
  {
   "cell_type": "code",
   "execution_count": 14,
   "id": "5329b596-328c-4c1c-9fc5-c808a51463ef",
   "metadata": {
    "tags": []
   },
   "outputs": [
    {
     "name": "stdout",
     "output_type": "stream",
     "text": [
      "Not Canceled Bookings: 54.04%\n",
      "Canceled Bookings: 45.96%\n"
     ]
    }
   ],
   "source": [
    "# Display the percentage of cancelled and not cancelled bookings\n",
    "notcan_dist = round((hotel_booking['is_canceled'].value_counts()[0]/hotel_booking['is_canceled'].count())*100,2)\n",
    "can_dist = round((hotel_booking['is_canceled'].value_counts()[1]/hotel_booking['is_canceled'].count())*100,2)\n",
    "print(\"Not Canceled Bookings:\", str(notcan_dist)+\"%\" \"\\n\"\n",
    "      \"Canceled Bookings:\" , str(can_dist)+\"%\" )"
   ]
  },
  {
   "cell_type": "markdown",
   "id": "9e6f7f72-627d-47c2-97a3-e4e03674f46f",
   "metadata": {},
   "source": [
    "We have a relatively even split between not canceled and canceled bookings"
   ]
  },
  {
   "cell_type": "markdown",
   "id": "b53866e6-2958-437b-9676-18df8dca1283",
   "metadata": {
    "tags": []
   },
   "source": [
    "### Splitting into Training and Testing Data"
   ]
  },
  {
   "cell_type": "code",
   "execution_count": 15,
   "id": "b571ba0d-236c-4744-b7dc-cbfeeb8361f9",
   "metadata": {
    "tags": []
   },
   "outputs": [
    {
     "data": {
      "text/plain": [
       "(3750, 33)"
      ]
     },
     "execution_count": 15,
     "metadata": {},
     "output_type": "execute_result"
    }
   ],
   "source": [
    "# Split the data into training and testing data\n",
    "hotel_training, hotel_testing = train_test_split(hotel_booking, test_size = 0.25, random_state=64)\n",
    "hotel_training.shape"
   ]
  },
  {
   "cell_type": "code",
   "execution_count": 16,
   "id": "f8d90d5c-3f1f-4c7e-a3f8-ce725728eb24",
   "metadata": {
    "tags": []
   },
   "outputs": [
    {
     "name": "stdout",
     "output_type": "stream",
     "text": [
      "Training Distribution\n",
      "\tNot Canceled Bookings: 53.79%\n",
      "\tCanceled Bookings: 46.21%\n",
      "Testing Distribution\n",
      "\tNot Canceled Bookings: 54.8%\n",
      "\tCanceled Bookings: 45.2%\n",
      "\n"
     ]
    }
   ],
   "source": [
    "notcan_train_dist = round((hotel_training['is_canceled'].value_counts()[0]/hotel_training['is_canceled'].count())*100,2)\n",
    "can_train_dist = round((hotel_training['is_canceled'].value_counts()[1]/hotel_training['is_canceled'].count())*100,2)\n",
    "notcan_test_dist = round((hotel_testing['is_canceled'].value_counts()[0]/hotel_testing['is_canceled'].count())*100,2)\n",
    "can_test_dist = round((hotel_testing['is_canceled'].value_counts()[1]/hotel_testing['is_canceled'].count())*100,2)\n",
    "print(\"Training Distribution\" \"\\n\"\n",
    "      \"\\t\" \"Not Canceled Bookings:\", str(notcan_train_dist)+\"%\" \"\\n\"\n",
    "      \"\\t\" \"Canceled Bookings:\" , str(can_train_dist)+\"%\" \"\\n\"\n",
    "      \"Testing Distribution\" \"\\n\"\n",
    "      \"\\t\" \"Not Canceled Bookings:\", str(notcan_test_dist)+\"%\" \"\\n\"\n",
    "      \"\\t\" \"Canceled Bookings:\" , str(can_test_dist)+\"%\" \"\\n\")"
   ]
  },
  {
   "cell_type": "markdown",
   "id": "0e9f6572-a089-469f-9224-1a1016520cd3",
   "metadata": {
    "tags": []
   },
   "source": [
    "### Training Data Information:"
   ]
  },
  {
   "cell_type": "code",
   "execution_count": 17,
   "id": "f9ff4547-c04e-44a1-9a84-877d8b1d5b7a",
   "metadata": {},
   "outputs": [
    {
     "data": {
      "text/html": [
       "<div>\n",
       "<style scoped>\n",
       "    .dataframe tbody tr th:only-of-type {\n",
       "        vertical-align: middle;\n",
       "    }\n",
       "\n",
       "    .dataframe tbody tr th {\n",
       "        vertical-align: top;\n",
       "    }\n",
       "\n",
       "    .dataframe thead th {\n",
       "        text-align: right;\n",
       "    }\n",
       "</style>\n",
       "<table border=\"1\" class=\"dataframe\">\n",
       "  <thead>\n",
       "    <tr style=\"text-align: right;\">\n",
       "      <th></th>\n",
       "      <th>name</th>\n",
       "      <th>non-nulls</th>\n",
       "      <th>nulls</th>\n",
       "      <th>type</th>\n",
       "    </tr>\n",
       "  </thead>\n",
       "  <tbody>\n",
       "    <tr>\n",
       "      <th>0</th>\n",
       "      <td>hotel</td>\n",
       "      <td>3750</td>\n",
       "      <td>0</td>\n",
       "      <td>object</td>\n",
       "    </tr>\n",
       "    <tr>\n",
       "      <th>1</th>\n",
       "      <td>is_canceled</td>\n",
       "      <td>3750</td>\n",
       "      <td>0</td>\n",
       "      <td>int64</td>\n",
       "    </tr>\n",
       "    <tr>\n",
       "      <th>2</th>\n",
       "      <td>lead_time</td>\n",
       "      <td>3750</td>\n",
       "      <td>0</td>\n",
       "      <td>int64</td>\n",
       "    </tr>\n",
       "    <tr>\n",
       "      <th>3</th>\n",
       "      <td>arrival_date_year</td>\n",
       "      <td>3750</td>\n",
       "      <td>0</td>\n",
       "      <td>int64</td>\n",
       "    </tr>\n",
       "    <tr>\n",
       "      <th>4</th>\n",
       "      <td>arrival_date_month</td>\n",
       "      <td>3750</td>\n",
       "      <td>0</td>\n",
       "      <td>object</td>\n",
       "    </tr>\n",
       "    <tr>\n",
       "      <th>5</th>\n",
       "      <td>arrival_date_week_number</td>\n",
       "      <td>3750</td>\n",
       "      <td>0</td>\n",
       "      <td>int64</td>\n",
       "    </tr>\n",
       "    <tr>\n",
       "      <th>6</th>\n",
       "      <td>arrival_date_day_of_month</td>\n",
       "      <td>3750</td>\n",
       "      <td>0</td>\n",
       "      <td>int64</td>\n",
       "    </tr>\n",
       "    <tr>\n",
       "      <th>7</th>\n",
       "      <td>stays_in_weekend_nights</td>\n",
       "      <td>3750</td>\n",
       "      <td>0</td>\n",
       "      <td>int64</td>\n",
       "    </tr>\n",
       "    <tr>\n",
       "      <th>8</th>\n",
       "      <td>stays_in_week_nights</td>\n",
       "      <td>3750</td>\n",
       "      <td>0</td>\n",
       "      <td>int64</td>\n",
       "    </tr>\n",
       "    <tr>\n",
       "      <th>9</th>\n",
       "      <td>adults</td>\n",
       "      <td>3750</td>\n",
       "      <td>0</td>\n",
       "      <td>int64</td>\n",
       "    </tr>\n",
       "    <tr>\n",
       "      <th>10</th>\n",
       "      <td>children</td>\n",
       "      <td>3750</td>\n",
       "      <td>0</td>\n",
       "      <td>float64</td>\n",
       "    </tr>\n",
       "    <tr>\n",
       "      <th>11</th>\n",
       "      <td>babies</td>\n",
       "      <td>3750</td>\n",
       "      <td>0</td>\n",
       "      <td>int64</td>\n",
       "    </tr>\n",
       "    <tr>\n",
       "      <th>12</th>\n",
       "      <td>meal</td>\n",
       "      <td>3750</td>\n",
       "      <td>0</td>\n",
       "      <td>object</td>\n",
       "    </tr>\n",
       "    <tr>\n",
       "      <th>13</th>\n",
       "      <td>market_segment</td>\n",
       "      <td>3750</td>\n",
       "      <td>0</td>\n",
       "      <td>object</td>\n",
       "    </tr>\n",
       "    <tr>\n",
       "      <th>14</th>\n",
       "      <td>distribution_channel</td>\n",
       "      <td>3750</td>\n",
       "      <td>0</td>\n",
       "      <td>object</td>\n",
       "    </tr>\n",
       "    <tr>\n",
       "      <th>15</th>\n",
       "      <td>is_repeated_guest</td>\n",
       "      <td>3750</td>\n",
       "      <td>0</td>\n",
       "      <td>int64</td>\n",
       "    </tr>\n",
       "    <tr>\n",
       "      <th>16</th>\n",
       "      <td>previous_cancellations</td>\n",
       "      <td>3750</td>\n",
       "      <td>0</td>\n",
       "      <td>int64</td>\n",
       "    </tr>\n",
       "    <tr>\n",
       "      <th>17</th>\n",
       "      <td>previous_bookings_not_canceled</td>\n",
       "      <td>3750</td>\n",
       "      <td>0</td>\n",
       "      <td>int64</td>\n",
       "    </tr>\n",
       "    <tr>\n",
       "      <th>18</th>\n",
       "      <td>reserved_room_type</td>\n",
       "      <td>3750</td>\n",
       "      <td>0</td>\n",
       "      <td>object</td>\n",
       "    </tr>\n",
       "    <tr>\n",
       "      <th>19</th>\n",
       "      <td>assigned_room_type</td>\n",
       "      <td>3750</td>\n",
       "      <td>0</td>\n",
       "      <td>object</td>\n",
       "    </tr>\n",
       "    <tr>\n",
       "      <th>20</th>\n",
       "      <td>booking_changes</td>\n",
       "      <td>3750</td>\n",
       "      <td>0</td>\n",
       "      <td>int64</td>\n",
       "    </tr>\n",
       "    <tr>\n",
       "      <th>21</th>\n",
       "      <td>deposit_type</td>\n",
       "      <td>3750</td>\n",
       "      <td>0</td>\n",
       "      <td>object</td>\n",
       "    </tr>\n",
       "    <tr>\n",
       "      <th>22</th>\n",
       "      <td>days_in_waiting_list</td>\n",
       "      <td>3750</td>\n",
       "      <td>0</td>\n",
       "      <td>int64</td>\n",
       "    </tr>\n",
       "    <tr>\n",
       "      <th>23</th>\n",
       "      <td>customer_type</td>\n",
       "      <td>3750</td>\n",
       "      <td>0</td>\n",
       "      <td>object</td>\n",
       "    </tr>\n",
       "    <tr>\n",
       "      <th>24</th>\n",
       "      <td>adr</td>\n",
       "      <td>3750</td>\n",
       "      <td>0</td>\n",
       "      <td>float64</td>\n",
       "    </tr>\n",
       "    <tr>\n",
       "      <th>25</th>\n",
       "      <td>required_car_parking_spaces</td>\n",
       "      <td>3750</td>\n",
       "      <td>0</td>\n",
       "      <td>int64</td>\n",
       "    </tr>\n",
       "    <tr>\n",
       "      <th>26</th>\n",
       "      <td>total_of_special_requests</td>\n",
       "      <td>3750</td>\n",
       "      <td>0</td>\n",
       "      <td>int64</td>\n",
       "    </tr>\n",
       "    <tr>\n",
       "      <th>27</th>\n",
       "      <td>reservation_status</td>\n",
       "      <td>3750</td>\n",
       "      <td>0</td>\n",
       "      <td>object</td>\n",
       "    </tr>\n",
       "    <tr>\n",
       "      <th>28</th>\n",
       "      <td>reservation_status_date</td>\n",
       "      <td>3750</td>\n",
       "      <td>0</td>\n",
       "      <td>object</td>\n",
       "    </tr>\n",
       "    <tr>\n",
       "      <th>29</th>\n",
       "      <td>name</td>\n",
       "      <td>3750</td>\n",
       "      <td>0</td>\n",
       "      <td>object</td>\n",
       "    </tr>\n",
       "    <tr>\n",
       "      <th>30</th>\n",
       "      <td>email</td>\n",
       "      <td>3750</td>\n",
       "      <td>0</td>\n",
       "      <td>object</td>\n",
       "    </tr>\n",
       "    <tr>\n",
       "      <th>31</th>\n",
       "      <td>phone-number</td>\n",
       "      <td>3750</td>\n",
       "      <td>0</td>\n",
       "      <td>object</td>\n",
       "    </tr>\n",
       "    <tr>\n",
       "      <th>32</th>\n",
       "      <td>credit_card</td>\n",
       "      <td>3750</td>\n",
       "      <td>0</td>\n",
       "      <td>object</td>\n",
       "    </tr>\n",
       "  </tbody>\n",
       "</table>\n",
       "</div>"
      ],
      "text/plain": [
       "                              name  non-nulls  nulls     type\n",
       "0                            hotel       3750      0   object\n",
       "1                      is_canceled       3750      0    int64\n",
       "2                        lead_time       3750      0    int64\n",
       "3                arrival_date_year       3750      0    int64\n",
       "4               arrival_date_month       3750      0   object\n",
       "5         arrival_date_week_number       3750      0    int64\n",
       "6        arrival_date_day_of_month       3750      0    int64\n",
       "7          stays_in_weekend_nights       3750      0    int64\n",
       "8             stays_in_week_nights       3750      0    int64\n",
       "9                           adults       3750      0    int64\n",
       "10                        children       3750      0  float64\n",
       "11                          babies       3750      0    int64\n",
       "12                            meal       3750      0   object\n",
       "13                  market_segment       3750      0   object\n",
       "14            distribution_channel       3750      0   object\n",
       "15               is_repeated_guest       3750      0    int64\n",
       "16          previous_cancellations       3750      0    int64\n",
       "17  previous_bookings_not_canceled       3750      0    int64\n",
       "18              reserved_room_type       3750      0   object\n",
       "19              assigned_room_type       3750      0   object\n",
       "20                 booking_changes       3750      0    int64\n",
       "21                    deposit_type       3750      0   object\n",
       "22            days_in_waiting_list       3750      0    int64\n",
       "23                   customer_type       3750      0   object\n",
       "24                             adr       3750      0  float64\n",
       "25     required_car_parking_spaces       3750      0    int64\n",
       "26       total_of_special_requests       3750      0    int64\n",
       "27              reservation_status       3750      0   object\n",
       "28         reservation_status_date       3750      0   object\n",
       "29                            name       3750      0   object\n",
       "30                           email       3750      0   object\n",
       "31                    phone-number       3750      0   object\n",
       "32                     credit_card       3750      0   object"
      ]
     },
     "execution_count": 17,
     "metadata": {},
     "output_type": "execute_result"
    }
   ],
   "source": [
    "# Display the columns of the training data along with the number of non null values, null values and data types\n",
    "hotel_training_info = pd.DataFrame({\"name\": hotel_training.columns, \n",
    "                                   \"non-nulls\": len(hotel_training)-hotel_training.isnull().sum().values, \n",
    "                                   \"nulls\": hotel_training.isnull().sum().values, \n",
    "                                   \"type\": hotel_training.dtypes.values})\n",
    "hotel_training_info"
   ]
  },
  {
   "cell_type": "markdown",
   "id": "50022789-321d-4280-bbd8-1b65e822363a",
   "metadata": {},
   "source": [
    "### Exploratory Analysis of Lead time and Arrival Month"
   ]
  },
  {
   "cell_type": "code",
   "execution_count": 48,
   "id": "9f9eb685-1bfd-4a86-a40c-e7c63fab15c7",
   "metadata": {
    "tags": []
   },
   "outputs": [],
   "source": [
    "# Display the number of cancelled vs. not cancelled bookings in a plot for months and lead time"
   ]
  },
  {
   "cell_type": "markdown",
   "id": "51df4e9d-67be-447e-9e14-c098cdcf16ba",
   "metadata": {},
   "source": [
    "With the following graph..."
   ]
  },
  {
   "cell_type": "markdown",
   "id": "3dda8b11-22da-4d4c-b16b-81508a9d40a6",
   "metadata": {},
   "source": [
    "## Part 1: Training to Predict with Lead Time and Arrival Month"
   ]
  },
  {
   "cell_type": "markdown",
   "id": "3016f2d4-9bd7-4f65-9f0f-6015ecb00935",
   "metadata": {},
   "source": [
    "### Cleaning Data for Training"
   ]
  },
  {
   "cell_type": "code",
   "execution_count": 21,
   "id": "c19d117c-5d18-428b-abbc-8672a9147c89",
   "metadata": {
    "tags": []
   },
   "outputs": [],
   "source": [
    "def month_converter(month):\n",
    "    months = ['January', 'February', 'March', 'April', 'May', 'June', 'July', 'August', 'September', 'October', 'November', 'December']\n",
    "    return months.index(month) + 1"
   ]
  },
  {
   "cell_type": "code",
   "execution_count": 22,
   "id": "44286d7e-8167-4d24-9e8f-e963fc63da38",
   "metadata": {
    "tags": []
   },
   "outputs": [],
   "source": [
    "hotel_booking['arrival_date_month'] = hotel_booking['arrival_date_month'].map(month_converter)"
   ]
  },
  {
   "cell_type": "code",
   "execution_count": 23,
   "id": "e99de44a-e6b6-4647-a59a-6ce3ae82c53d",
   "metadata": {
    "tags": []
   },
   "outputs": [
    {
     "data": {
      "text/plain": [
       "0      198\n",
       "1       97\n",
       "78      79\n",
       "2       72\n",
       "36      68\n",
       "      ... \n",
       "382      1\n",
       "344      1\n",
       "248      1\n",
       "336      1\n",
       "342      1\n",
       "Name: lead_time, Length: 272, dtype: int64"
      ]
     },
     "execution_count": 23,
     "metadata": {},
     "output_type": "execute_result"
    }
   ],
   "source": [
    "hotel_booking['lead_time'].value_counts()"
   ]
  },
  {
   "cell_type": "markdown",
   "id": "3d429d92-8885-49cd-b7bd-3a213fa4362b",
   "metadata": {},
   "source": [
    "### Training"
   ]
  },
  {
   "cell_type": "code",
   "execution_count": 24,
   "id": "cd536244-cdca-4ed5-86b2-afcb462896a8",
   "metadata": {
    "tags": []
   },
   "outputs": [],
   "source": [
    "clean_hotel_training, clean_hotel_testing = train_test_split(hotel_booking, test_size = 0.25, random_state=64)"
   ]
  },
  {
   "cell_type": "code",
   "execution_count": 25,
   "id": "c2afeb84-e1f3-409d-97bf-c1d94fce61d7",
   "metadata": {
    "tags": []
   },
   "outputs": [
    {
     "name": "stdout",
     "output_type": "stream",
     "text": [
      "Training Distribution\n",
      "\tNot Canceled Bookings: 53.79%\n",
      "\tCanceled Bookings: 46.21%\n",
      "Testing Distribution\n",
      "\tNot Canceled Bookings: 54.8%\n",
      "\tCanceled Bookings: 45.2%\n",
      "\n"
     ]
    }
   ],
   "source": [
    "notcan_train_dist = round((clean_hotel_training['is_canceled'].value_counts()[0]/clean_hotel_training['is_canceled'].count())*100,2)\n",
    "can_train_dist = round((clean_hotel_training['is_canceled'].value_counts()[1]/clean_hotel_training['is_canceled'].count())*100,2)\n",
    "notcan_test_dist = round((clean_hotel_testing['is_canceled'].value_counts()[0]/clean_hotel_testing['is_canceled'].count())*100,2)\n",
    "can_test_dist = round((clean_hotel_testing['is_canceled'].value_counts()[1]/clean_hotel_testing['is_canceled'].count())*100,2)\n",
    "print(\"Training Distribution\" \"\\n\"\n",
    "      \"\\t\" \"Not Canceled Bookings:\", str(notcan_train_dist)+\"%\" \"\\n\"\n",
    "      \"\\t\" \"Canceled Bookings:\" , str(can_train_dist)+\"%\" \"\\n\"\n",
    "      \"Testing Distribution\" \"\\n\"\n",
    "      \"\\t\" \"Not Canceled Bookings:\", str(notcan_test_dist)+\"%\" \"\\n\"\n",
    "      \"\\t\" \"Canceled Bookings:\" , str(can_test_dist)+\"%\" \"\\n\")"
   ]
  },
  {
   "cell_type": "code",
   "execution_count": 26,
   "id": "c15b0845-1f6f-41f5-86bb-9a77d2e871d7",
   "metadata": {},
   "outputs": [],
   "source": [
    "hotel_preprocessor = make_column_transformer(\n",
    "    (StandardScaler(), [\"lead_time\", \"arrival_date_month\"]),\n",
    ")"
   ]
  },
  {
   "cell_type": "code",
   "execution_count": 27,
   "id": "e8b7553e-dd5c-4c23-92c8-962de68bb92e",
   "metadata": {
    "tags": []
   },
   "outputs": [
    {
     "data": {
      "text/html": [
       "<style>#sk-container-id-1 {color: black;background-color: white;}#sk-container-id-1 pre{padding: 0;}#sk-container-id-1 div.sk-toggleable {background-color: white;}#sk-container-id-1 label.sk-toggleable__label {cursor: pointer;display: block;width: 100%;margin-bottom: 0;padding: 0.3em;box-sizing: border-box;text-align: center;}#sk-container-id-1 label.sk-toggleable__label-arrow:before {content: \"▸\";float: left;margin-right: 0.25em;color: #696969;}#sk-container-id-1 label.sk-toggleable__label-arrow:hover:before {color: black;}#sk-container-id-1 div.sk-estimator:hover label.sk-toggleable__label-arrow:before {color: black;}#sk-container-id-1 div.sk-toggleable__content {max-height: 0;max-width: 0;overflow: hidden;text-align: left;background-color: #f0f8ff;}#sk-container-id-1 div.sk-toggleable__content pre {margin: 0.2em;color: black;border-radius: 0.25em;background-color: #f0f8ff;}#sk-container-id-1 input.sk-toggleable__control:checked~div.sk-toggleable__content {max-height: 200px;max-width: 100%;overflow: auto;}#sk-container-id-1 input.sk-toggleable__control:checked~label.sk-toggleable__label-arrow:before {content: \"▾\";}#sk-container-id-1 div.sk-estimator input.sk-toggleable__control:checked~label.sk-toggleable__label {background-color: #d4ebff;}#sk-container-id-1 div.sk-label input.sk-toggleable__control:checked~label.sk-toggleable__label {background-color: #d4ebff;}#sk-container-id-1 input.sk-hidden--visually {border: 0;clip: rect(1px 1px 1px 1px);clip: rect(1px, 1px, 1px, 1px);height: 1px;margin: -1px;overflow: hidden;padding: 0;position: absolute;width: 1px;}#sk-container-id-1 div.sk-estimator {font-family: monospace;background-color: #f0f8ff;border: 1px dotted black;border-radius: 0.25em;box-sizing: border-box;margin-bottom: 0.5em;}#sk-container-id-1 div.sk-estimator:hover {background-color: #d4ebff;}#sk-container-id-1 div.sk-parallel-item::after {content: \"\";width: 100%;border-bottom: 1px solid gray;flex-grow: 1;}#sk-container-id-1 div.sk-label:hover label.sk-toggleable__label {background-color: #d4ebff;}#sk-container-id-1 div.sk-serial::before {content: \"\";position: absolute;border-left: 1px solid gray;box-sizing: border-box;top: 0;bottom: 0;left: 50%;z-index: 0;}#sk-container-id-1 div.sk-serial {display: flex;flex-direction: column;align-items: center;background-color: white;padding-right: 0.2em;padding-left: 0.2em;position: relative;}#sk-container-id-1 div.sk-item {position: relative;z-index: 1;}#sk-container-id-1 div.sk-parallel {display: flex;align-items: stretch;justify-content: center;background-color: white;position: relative;}#sk-container-id-1 div.sk-item::before, #sk-container-id-1 div.sk-parallel-item::before {content: \"\";position: absolute;border-left: 1px solid gray;box-sizing: border-box;top: 0;bottom: 0;left: 50%;z-index: -1;}#sk-container-id-1 div.sk-parallel-item {display: flex;flex-direction: column;z-index: 1;position: relative;background-color: white;}#sk-container-id-1 div.sk-parallel-item:first-child::after {align-self: flex-end;width: 50%;}#sk-container-id-1 div.sk-parallel-item:last-child::after {align-self: flex-start;width: 50%;}#sk-container-id-1 div.sk-parallel-item:only-child::after {width: 0;}#sk-container-id-1 div.sk-dashed-wrapped {border: 1px dashed gray;margin: 0 0.4em 0.5em 0.4em;box-sizing: border-box;padding-bottom: 0.4em;background-color: white;}#sk-container-id-1 div.sk-label label {font-family: monospace;font-weight: bold;display: inline-block;line-height: 1.2em;}#sk-container-id-1 div.sk-label-container {text-align: center;}#sk-container-id-1 div.sk-container {/* jupyter's `normalize.less` sets `[hidden] { display: none; }` but bootstrap.min.css set `[hidden] { display: none !important; }` so we also need the `!important` here to be able to override the default hidden behavior on the sphinx rendered scikit-learn.org. See: https://github.com/scikit-learn/scikit-learn/issues/21755 */display: inline-block !important;position: relative;}#sk-container-id-1 div.sk-text-repr-fallback {display: none;}</style><div id=\"sk-container-id-1\" class=\"sk-top-container\"><div class=\"sk-text-repr-fallback\"><pre>Pipeline(steps=[(&#x27;columntransformer&#x27;,\n",
       "                 ColumnTransformer(transformers=[(&#x27;standardscaler&#x27;,\n",
       "                                                  StandardScaler(),\n",
       "                                                  [&#x27;lead_time&#x27;,\n",
       "                                                   &#x27;arrival_date_month&#x27;])])),\n",
       "                (&#x27;kneighborsclassifier&#x27;, KNeighborsClassifier(n_neighbors=3))])</pre><b>In a Jupyter environment, please rerun this cell to show the HTML representation or trust the notebook. <br />On GitHub, the HTML representation is unable to render, please try loading this page with nbviewer.org.</b></div><div class=\"sk-container\" hidden><div class=\"sk-item sk-dashed-wrapped\"><div class=\"sk-label-container\"><div class=\"sk-label sk-toggleable\"><input class=\"sk-toggleable__control sk-hidden--visually\" id=\"sk-estimator-id-1\" type=\"checkbox\" ><label for=\"sk-estimator-id-1\" class=\"sk-toggleable__label sk-toggleable__label-arrow\">Pipeline</label><div class=\"sk-toggleable__content\"><pre>Pipeline(steps=[(&#x27;columntransformer&#x27;,\n",
       "                 ColumnTransformer(transformers=[(&#x27;standardscaler&#x27;,\n",
       "                                                  StandardScaler(),\n",
       "                                                  [&#x27;lead_time&#x27;,\n",
       "                                                   &#x27;arrival_date_month&#x27;])])),\n",
       "                (&#x27;kneighborsclassifier&#x27;, KNeighborsClassifier(n_neighbors=3))])</pre></div></div></div><div class=\"sk-serial\"><div class=\"sk-item sk-dashed-wrapped\"><div class=\"sk-label-container\"><div class=\"sk-label sk-toggleable\"><input class=\"sk-toggleable__control sk-hidden--visually\" id=\"sk-estimator-id-2\" type=\"checkbox\" ><label for=\"sk-estimator-id-2\" class=\"sk-toggleable__label sk-toggleable__label-arrow\">columntransformer: ColumnTransformer</label><div class=\"sk-toggleable__content\"><pre>ColumnTransformer(transformers=[(&#x27;standardscaler&#x27;, StandardScaler(),\n",
       "                                 [&#x27;lead_time&#x27;, &#x27;arrival_date_month&#x27;])])</pre></div></div></div><div class=\"sk-parallel\"><div class=\"sk-parallel-item\"><div class=\"sk-item\"><div class=\"sk-label-container\"><div class=\"sk-label sk-toggleable\"><input class=\"sk-toggleable__control sk-hidden--visually\" id=\"sk-estimator-id-3\" type=\"checkbox\" ><label for=\"sk-estimator-id-3\" class=\"sk-toggleable__label sk-toggleable__label-arrow\">standardscaler</label><div class=\"sk-toggleable__content\"><pre>[&#x27;lead_time&#x27;, &#x27;arrival_date_month&#x27;]</pre></div></div></div><div class=\"sk-serial\"><div class=\"sk-item\"><div class=\"sk-estimator sk-toggleable\"><input class=\"sk-toggleable__control sk-hidden--visually\" id=\"sk-estimator-id-4\" type=\"checkbox\" ><label for=\"sk-estimator-id-4\" class=\"sk-toggleable__label sk-toggleable__label-arrow\">StandardScaler</label><div class=\"sk-toggleable__content\"><pre>StandardScaler()</pre></div></div></div></div></div></div></div></div><div class=\"sk-item\"><div class=\"sk-estimator sk-toggleable\"><input class=\"sk-toggleable__control sk-hidden--visually\" id=\"sk-estimator-id-5\" type=\"checkbox\" ><label for=\"sk-estimator-id-5\" class=\"sk-toggleable__label sk-toggleable__label-arrow\">KNeighborsClassifier</label><div class=\"sk-toggleable__content\"><pre>KNeighborsClassifier(n_neighbors=3)</pre></div></div></div></div></div></div></div>"
      ],
      "text/plain": [
       "Pipeline(steps=[('columntransformer',\n",
       "                 ColumnTransformer(transformers=[('standardscaler',\n",
       "                                                  StandardScaler(),\n",
       "                                                  ['lead_time',\n",
       "                                                   'arrival_date_month'])])),\n",
       "                ('kneighborsclassifier', KNeighborsClassifier(n_neighbors=3))])"
      ]
     },
     "execution_count": 27,
     "metadata": {},
     "output_type": "execute_result"
    }
   ],
   "source": [
    "knn = KNeighborsClassifier(n_neighbors=3) \n",
    "\n",
    "X = clean_hotel_training[[\"lead_time\", \"arrival_date_month\"]]\n",
    "y = clean_hotel_training[\"is_canceled\"]\n",
    "\n",
    "X_test = clean_hotel_testing[[\"lead_time\", \"arrival_date_month\"]]\n",
    "y_test = clean_hotel_testing[\"is_canceled\"]\n",
    "\n",
    "hotel_pipe = make_pipeline(hotel_preprocessor, knn).fit(X, y)\n",
    "\n",
    "hotel_pipe"
   ]
  },
  {
   "cell_type": "markdown",
   "id": "c662cf85-4508-4da0-9767-7d6b0f010153",
   "metadata": {
    "tags": []
   },
   "source": [
    "### Finetuning"
   ]
  },
  {
   "cell_type": "code",
   "execution_count": 28,
   "id": "8601256c-f164-4096-8461-c98ac70819c8",
   "metadata": {
    "tags": []
   },
   "outputs": [],
   "source": [
    "param_grid = {\"kneighborsclassifier__n_neighbors\": range(1,1000,50)}\n",
    "\n",
    "hotel_tune_grid = GridSearchCV(\n",
    "    estimator=hotel_pipe,\n",
    "    param_grid=param_grid,\n",
    "    cv=5\n",
    ")"
   ]
  },
  {
   "cell_type": "code",
   "execution_count": 29,
   "id": "8e0a2f6f-7ee2-4466-9508-d19becd6335a",
   "metadata": {
    "tags": []
   },
   "outputs": [],
   "source": [
    "acc_grid = pd.DataFrame(hotel_tune_grid.fit(X,y).cv_results_)\n",
    "acc_grid = acc_grid.rename(columns={\"param_kneighborsclassifier__n_neighbors\":\"n_neighbors\"})"
   ]
  },
  {
   "cell_type": "code",
   "execution_count": 30,
   "id": "c8c1e517-ef63-447c-a4b0-036bcefd1410",
   "metadata": {
    "tags": []
   },
   "outputs": [
    {
     "data": {
      "text/html": [
       "\n",
       "<div id=\"altair-viz-5a04f0bd1e5844719ad47fc9b18195b5\"></div>\n",
       "<script type=\"text/javascript\">\n",
       "  var VEGA_DEBUG = (typeof VEGA_DEBUG == \"undefined\") ? {} : VEGA_DEBUG;\n",
       "  (function(spec, embedOpt){\n",
       "    let outputDiv = document.currentScript.previousElementSibling;\n",
       "    if (outputDiv.id !== \"altair-viz-5a04f0bd1e5844719ad47fc9b18195b5\") {\n",
       "      outputDiv = document.getElementById(\"altair-viz-5a04f0bd1e5844719ad47fc9b18195b5\");\n",
       "    }\n",
       "    const paths = {\n",
       "      \"vega\": \"https://cdn.jsdelivr.net/npm//vega@5?noext\",\n",
       "      \"vega-lib\": \"https://cdn.jsdelivr.net/npm//vega-lib?noext\",\n",
       "      \"vega-lite\": \"https://cdn.jsdelivr.net/npm//vega-lite@4.17.0?noext\",\n",
       "      \"vega-embed\": \"https://cdn.jsdelivr.net/npm//vega-embed@6?noext\",\n",
       "    };\n",
       "\n",
       "    function maybeLoadScript(lib, version) {\n",
       "      var key = `${lib.replace(\"-\", \"\")}_version`;\n",
       "      return (VEGA_DEBUG[key] == version) ?\n",
       "        Promise.resolve(paths[lib]) :\n",
       "        new Promise(function(resolve, reject) {\n",
       "          var s = document.createElement('script');\n",
       "          document.getElementsByTagName(\"head\")[0].appendChild(s);\n",
       "          s.async = true;\n",
       "          s.onload = () => {\n",
       "            VEGA_DEBUG[key] = version;\n",
       "            return resolve(paths[lib]);\n",
       "          };\n",
       "          s.onerror = () => reject(`Error loading script: ${paths[lib]}`);\n",
       "          s.src = paths[lib];\n",
       "        });\n",
       "    }\n",
       "\n",
       "    function showError(err) {\n",
       "      outputDiv.innerHTML = `<div class=\"error\" style=\"color:red;\">${err}</div>`;\n",
       "      throw err;\n",
       "    }\n",
       "\n",
       "    function displayChart(vegaEmbed) {\n",
       "      vegaEmbed(outputDiv, spec, embedOpt)\n",
       "        .catch(err => showError(`Javascript Error: ${err.message}<br>This usually means there's a typo in your chart specification. See the javascript console for the full traceback.`));\n",
       "    }\n",
       "\n",
       "    if(typeof define === \"function\" && define.amd) {\n",
       "      requirejs.config({paths});\n",
       "      require([\"vega-embed\"], displayChart, err => showError(`Error loading script: ${err.message}`));\n",
       "    } else {\n",
       "      maybeLoadScript(\"vega\", \"5\")\n",
       "        .then(() => maybeLoadScript(\"vega-lite\", \"4.17.0\"))\n",
       "        .then(() => maybeLoadScript(\"vega-embed\", \"6\"))\n",
       "        .catch(showError)\n",
       "        .then(() => displayChart(vegaEmbed));\n",
       "    }\n",
       "  })({\"config\": {\"view\": {\"continuousWidth\": 400, \"continuousHeight\": 300}}, \"data\": {\"name\": \"data-b2981ced47b9ee8d72253ca5ff993b50\"}, \"mark\": {\"type\": \"line\", \"point\": true}, \"encoding\": {\"x\": {\"field\": \"n_neighbors\", \"type\": \"quantitative\"}, \"y\": {\"field\": \"mean_test_score\", \"scale\": {\"domain\": [0.6, 0.75]}, \"type\": \"quantitative\"}}, \"$schema\": \"https://vega.github.io/schema/vega-lite/v4.17.0.json\", \"datasets\": {\"data-b2981ced47b9ee8d72253ca5ff993b50\": [{\"mean_fit_time\": 0.007521295547485351, \"std_fit_time\": 0.0003779410714306568, \"mean_score_time\": 0.03438882827758789, \"std_score_time\": 0.002900178552682011, \"n_neighbors\": 1, \"params\": {\"kneighborsclassifier__n_neighbors\": 1}, \"split0_test_score\": 0.6773333333333333, \"split1_test_score\": 0.712, \"split2_test_score\": 0.7066666666666667, \"split3_test_score\": 0.7066666666666667, \"split4_test_score\": 0.7013333333333334, \"mean_test_score\": 0.7008, \"std_test_score\": 0.012208558018410226, \"rank_test_score\": 2}, {\"mean_fit_time\": 0.01074967384338379, \"std_fit_time\": 0.006401811935950637, \"mean_score_time\": 0.05047926902770996, \"std_score_time\": 0.013155599543119217, \"n_neighbors\": 51, \"params\": {\"kneighborsclassifier__n_neighbors\": 51}, \"split0_test_score\": 0.7146666666666667, \"split1_test_score\": 0.7093333333333334, \"split2_test_score\": 0.692, \"split3_test_score\": 0.7026666666666667, \"split4_test_score\": 0.704, \"mean_test_score\": 0.7045333333333332, \"std_test_score\": 0.007570703768841832, \"rank_test_score\": 1}, {\"mean_fit_time\": 0.007222986221313477, \"std_fit_time\": 0.00042666845889466424, \"mean_score_time\": 0.04824299812316894, \"std_score_time\": 0.002752093649425, \"n_neighbors\": 101, \"params\": {\"kneighborsclassifier__n_neighbors\": 101}, \"split0_test_score\": 0.6773333333333333, \"split1_test_score\": 0.676, \"split2_test_score\": 0.664, \"split3_test_score\": 0.7093333333333334, \"split4_test_score\": 0.696, \"mean_test_score\": 0.6845333333333334, \"std_test_score\": 0.016079800993793414, \"rank_test_score\": 3}, {\"mean_fit_time\": 0.007029247283935547, \"std_fit_time\": 0.00019480554018270623, \"mean_score_time\": 0.05458364486694336, \"std_score_time\": 0.0017709566214672901, \"n_neighbors\": 151, \"params\": {\"kneighborsclassifier__n_neighbors\": 151}, \"split0_test_score\": 0.6893333333333334, \"split1_test_score\": 0.6573333333333333, \"split2_test_score\": 0.6813333333333333, \"split3_test_score\": 0.704, \"split4_test_score\": 0.6826666666666666, \"mean_test_score\": 0.6829333333333334, \"std_test_score\": 0.015117906968595584, \"rank_test_score\": 4}, {\"mean_fit_time\": 0.008967971801757813, \"std_fit_time\": 0.003821157863393836, \"mean_score_time\": 0.0699648380279541, \"std_score_time\": 0.014295347000180841, \"n_neighbors\": 201, \"params\": {\"kneighborsclassifier__n_neighbors\": 201}, \"split0_test_score\": 0.676, \"split1_test_score\": 0.6573333333333333, \"split2_test_score\": 0.6653333333333333, \"split3_test_score\": 0.6906666666666667, \"split4_test_score\": 0.6813333333333333, \"mean_test_score\": 0.6741333333333334, \"std_test_score\": 0.011733333333333335, \"rank_test_score\": 5}, {\"mean_fit_time\": 0.012107229232788086, \"std_fit_time\": 0.01031424917514912, \"mean_score_time\": 0.08102307319641114, \"std_score_time\": 0.013294706114742498, \"n_neighbors\": 251, \"params\": {\"kneighborsclassifier__n_neighbors\": 251}, \"split0_test_score\": 0.676, \"split1_test_score\": 0.6373333333333333, \"split2_test_score\": 0.66, \"split3_test_score\": 0.6706666666666666, \"split4_test_score\": 0.6773333333333333, \"mean_test_score\": 0.6642666666666667, \"std_test_score\": 0.014784977360671065, \"rank_test_score\": 7}, {\"mean_fit_time\": 0.007480335235595703, \"std_fit_time\": 0.0007885224900712222, \"mean_score_time\": 0.108013916015625, \"std_score_time\": 0.032012278773495224, \"n_neighbors\": 301, \"params\": {\"kneighborsclassifier__n_neighbors\": 301}, \"split0_test_score\": 0.6613333333333333, \"split1_test_score\": 0.656, \"split2_test_score\": 0.676, \"split3_test_score\": 0.6773333333333333, \"split4_test_score\": 0.6853333333333333, \"mean_test_score\": 0.6712, \"std_test_score\": 0.010851727973000432, \"rank_test_score\": 6}, {\"mean_fit_time\": 0.007067155838012695, \"std_fit_time\": 0.00044923411494002084, \"mean_score_time\": 0.08587660789489746, \"std_score_time\": 0.0017579972866756917, \"n_neighbors\": 351, \"params\": {\"kneighborsclassifier__n_neighbors\": 351}, \"split0_test_score\": 0.6413333333333333, \"split1_test_score\": 0.6226666666666667, \"split2_test_score\": 0.656, \"split3_test_score\": 0.652, \"split4_test_score\": 0.6506666666666666, \"mean_test_score\": 0.6445333333333333, \"std_test_score\": 0.01194357102749796, \"rank_test_score\": 20}, {\"mean_fit_time\": 0.007197666168212891, \"std_fit_time\": 0.000488398917742534, \"mean_score_time\": 0.0974998950958252, \"std_score_time\": 0.006235777966206038, \"n_neighbors\": 401, \"params\": {\"kneighborsclassifier__n_neighbors\": 401}, \"split0_test_score\": 0.6426666666666667, \"split1_test_score\": 0.6266666666666667, \"split2_test_score\": 0.6653333333333333, \"split3_test_score\": 0.6626666666666666, \"split4_test_score\": 0.66, \"mean_test_score\": 0.6514666666666666, \"std_test_score\": 0.014717487708316383, \"rank_test_score\": 10}, {\"mean_fit_time\": 0.006881904602050781, \"std_fit_time\": 0.0002515320032125574, \"mean_score_time\": 0.1144059181213379, \"std_score_time\": 0.026001030496689802, \"n_neighbors\": 451, \"params\": {\"kneighborsclassifier__n_neighbors\": 451}, \"split0_test_score\": 0.644, \"split1_test_score\": 0.6386666666666667, \"split2_test_score\": 0.6653333333333333, \"split3_test_score\": 0.6613333333333333, \"split4_test_score\": 0.656, \"mean_test_score\": 0.6530666666666667, \"std_test_score\": 0.01016836051463338, \"rank_test_score\": 8}, {\"mean_fit_time\": 0.007405757904052734, \"std_fit_time\": 0.0009742299410247432, \"mean_score_time\": 0.11867356300354004, \"std_score_time\": 0.007004146419496359, \"n_neighbors\": 501, \"params\": {\"kneighborsclassifier__n_neighbors\": 501}, \"split0_test_score\": 0.644, \"split1_test_score\": 0.6346666666666667, \"split2_test_score\": 0.6546666666666666, \"split3_test_score\": 0.6613333333333333, \"split4_test_score\": 0.6626666666666666, \"mean_test_score\": 0.6514666666666666, \"std_test_score\": 0.010686647951740706, \"rank_test_score\": 10}, {\"mean_fit_time\": 0.01469731330871582, \"std_fit_time\": 0.014234317363948907, \"mean_score_time\": 0.12808985710144044, \"std_score_time\": 0.013678054017791765, \"n_neighbors\": 551, \"params\": {\"kneighborsclassifier__n_neighbors\": 551}, \"split0_test_score\": 0.64, \"split1_test_score\": 0.6346666666666667, \"split2_test_score\": 0.66, \"split3_test_score\": 0.6586666666666666, \"split4_test_score\": 0.6533333333333333, \"mean_test_score\": 0.6493333333333333, \"std_test_score\": 0.010189319026422809, \"rank_test_score\": 18}, {\"mean_fit_time\": 0.00777902603149414, \"std_fit_time\": 0.0009697110163112932, \"mean_score_time\": 0.14906845092773438, \"std_score_time\": 0.025431927903381932, \"n_neighbors\": 601, \"params\": {\"kneighborsclassifier__n_neighbors\": 601}, \"split0_test_score\": 0.64, \"split1_test_score\": 0.6346666666666667, \"split2_test_score\": 0.66, \"split3_test_score\": 0.6533333333333333, \"split4_test_score\": 0.652, \"mean_test_score\": 0.648, \"std_test_score\": 0.009276014469827239, \"rank_test_score\": 19}, {\"mean_fit_time\": 0.007316446304321289, \"std_fit_time\": 0.0008201951557172086, \"mean_score_time\": 0.1376560688018799, \"std_score_time\": 0.005166639188233742, \"n_neighbors\": 651, \"params\": {\"kneighborsclassifier__n_neighbors\": 651}, \"split0_test_score\": 0.6413333333333333, \"split1_test_score\": 0.6386666666666667, \"split2_test_score\": 0.6573333333333333, \"split3_test_score\": 0.656, \"split4_test_score\": 0.6546666666666666, \"mean_test_score\": 0.6496, \"std_test_score\": 0.007928569998569859, \"rank_test_score\": 17}, {\"mean_fit_time\": 0.007019233703613281, \"std_fit_time\": 0.00029434823686714324, \"mean_score_time\": 0.14298095703125, \"std_score_time\": 0.0021318568945730304, \"n_neighbors\": 701, \"params\": {\"kneighborsclassifier__n_neighbors\": 701}, \"split0_test_score\": 0.6413333333333333, \"split1_test_score\": 0.6373333333333333, \"split2_test_score\": 0.66, \"split3_test_score\": 0.656, \"split4_test_score\": 0.6573333333333333, \"mean_test_score\": 0.6504000000000001, \"std_test_score\": 0.009214481356357884, \"rank_test_score\": 14}, {\"mean_fit_time\": 0.006843662261962891, \"std_fit_time\": 0.0001605390825205605, \"mean_score_time\": 0.1503666400909424, \"std_score_time\": 0.007017753662769621, \"n_neighbors\": 751, \"params\": {\"kneighborsclassifier__n_neighbors\": 751}, \"split0_test_score\": 0.6413333333333333, \"split1_test_score\": 0.6373333333333333, \"split2_test_score\": 0.66, \"split3_test_score\": 0.6546666666666666, \"split4_test_score\": 0.6573333333333333, \"mean_test_score\": 0.6501333333333333, \"std_test_score\": 0.00906666666666668, \"rank_test_score\": 15}, {\"mean_fit_time\": 0.00716695785522461, \"std_fit_time\": 0.0008101577628880135, \"mean_score_time\": 0.2108372688293457, \"std_score_time\": 0.040380313744721896, \"n_neighbors\": 801, \"params\": {\"kneighborsclassifier__n_neighbors\": 801}, \"split0_test_score\": 0.6413333333333333, \"split1_test_score\": 0.6373333333333333, \"split2_test_score\": 0.664, \"split3_test_score\": 0.6546666666666666, \"split4_test_score\": 0.6573333333333333, \"mean_test_score\": 0.6509333333333334, \"std_test_score\": 0.01002751769438037, \"rank_test_score\": 13}, {\"mean_fit_time\": 0.0071392059326171875, \"std_fit_time\": 0.00027191824475482866, \"mean_score_time\": 0.1647740364074707, \"std_score_time\": 0.0024961424473228188, \"n_neighbors\": 851, \"params\": {\"kneighborsclassifier__n_neighbors\": 851}, \"split0_test_score\": 0.644, \"split1_test_score\": 0.6413333333333333, \"split2_test_score\": 0.664, \"split3_test_score\": 0.6573333333333333, \"split4_test_score\": 0.6573333333333333, \"mean_test_score\": 0.6528, \"std_test_score\": 0.008665640964945034, \"rank_test_score\": 9}, {\"mean_fit_time\": 0.0072059154510498045, \"std_fit_time\": 0.0006390796630943561, \"mean_score_time\": 0.1735973834991455, \"std_score_time\": 0.0024159013484949753, \"n_neighbors\": 901, \"params\": {\"kneighborsclassifier__n_neighbors\": 901}, \"split0_test_score\": 0.6413333333333333, \"split1_test_score\": 0.6373333333333333, \"split2_test_score\": 0.664, \"split3_test_score\": 0.6573333333333333, \"split4_test_score\": 0.6573333333333333, \"mean_test_score\": 0.6514666666666666, \"std_test_score\": 0.010279645475944756, \"rank_test_score\": 10}, {\"mean_fit_time\": 0.00823354721069336, \"std_fit_time\": 0.0016981720887138398, \"mean_score_time\": 0.22149786949157715, \"std_score_time\": 0.053056635295767283, \"n_neighbors\": 951, \"params\": {\"kneighborsclassifier__n_neighbors\": 951}, \"split0_test_score\": 0.6413333333333333, \"split1_test_score\": 0.6373333333333333, \"split2_test_score\": 0.66, \"split3_test_score\": 0.6546666666666666, \"split4_test_score\": 0.6573333333333333, \"mean_test_score\": 0.6501333333333333, \"std_test_score\": 0.00906666666666668, \"rank_test_score\": 15}]}}, {\"mode\": \"vega-lite\"});\n",
       "</script>"
      ],
      "text/plain": [
       "alt.Chart(...)"
      ]
     },
     "execution_count": 30,
     "metadata": {},
     "output_type": "execute_result"
    }
   ],
   "source": [
    "accuracy_vs_k = alt.Chart(acc_grid).mark_line(point=True).encode(\n",
    "    x=alt.X(\"n_neighbors\"),\n",
    "    y=alt.Y(\"mean_test_score\", scale=alt.Scale(domain=(0.6, 0.75)))\n",
    ")\n",
    "\n",
    "accuracy_vs_k"
   ]
  },
  {
   "cell_type": "code",
   "execution_count": 31,
   "id": "628de6f1-3c45-4445-8db9-e975f130d60b",
   "metadata": {
    "tags": []
   },
   "outputs": [
    {
     "data": {
      "text/plain": [
       "351"
      ]
     },
     "execution_count": 31,
     "metadata": {},
     "output_type": "execute_result"
    }
   ],
   "source": [
    "acc_grid = acc_grid.sort_values(by=\"mean_test_score\",ascending=True)\n",
    "best_n = acc_grid.iloc[0].n_neighbors\n",
    "best_n"
   ]
  },
  {
   "cell_type": "code",
   "execution_count": 32,
   "id": "613d6f48-b9e9-404d-971b-c48f8916667a",
   "metadata": {
    "tags": []
   },
   "outputs": [
    {
     "data": {
      "text/html": [
       "<style>#sk-container-id-2 {color: black;background-color: white;}#sk-container-id-2 pre{padding: 0;}#sk-container-id-2 div.sk-toggleable {background-color: white;}#sk-container-id-2 label.sk-toggleable__label {cursor: pointer;display: block;width: 100%;margin-bottom: 0;padding: 0.3em;box-sizing: border-box;text-align: center;}#sk-container-id-2 label.sk-toggleable__label-arrow:before {content: \"▸\";float: left;margin-right: 0.25em;color: #696969;}#sk-container-id-2 label.sk-toggleable__label-arrow:hover:before {color: black;}#sk-container-id-2 div.sk-estimator:hover label.sk-toggleable__label-arrow:before {color: black;}#sk-container-id-2 div.sk-toggleable__content {max-height: 0;max-width: 0;overflow: hidden;text-align: left;background-color: #f0f8ff;}#sk-container-id-2 div.sk-toggleable__content pre {margin: 0.2em;color: black;border-radius: 0.25em;background-color: #f0f8ff;}#sk-container-id-2 input.sk-toggleable__control:checked~div.sk-toggleable__content {max-height: 200px;max-width: 100%;overflow: auto;}#sk-container-id-2 input.sk-toggleable__control:checked~label.sk-toggleable__label-arrow:before {content: \"▾\";}#sk-container-id-2 div.sk-estimator input.sk-toggleable__control:checked~label.sk-toggleable__label {background-color: #d4ebff;}#sk-container-id-2 div.sk-label input.sk-toggleable__control:checked~label.sk-toggleable__label {background-color: #d4ebff;}#sk-container-id-2 input.sk-hidden--visually {border: 0;clip: rect(1px 1px 1px 1px);clip: rect(1px, 1px, 1px, 1px);height: 1px;margin: -1px;overflow: hidden;padding: 0;position: absolute;width: 1px;}#sk-container-id-2 div.sk-estimator {font-family: monospace;background-color: #f0f8ff;border: 1px dotted black;border-radius: 0.25em;box-sizing: border-box;margin-bottom: 0.5em;}#sk-container-id-2 div.sk-estimator:hover {background-color: #d4ebff;}#sk-container-id-2 div.sk-parallel-item::after {content: \"\";width: 100%;border-bottom: 1px solid gray;flex-grow: 1;}#sk-container-id-2 div.sk-label:hover label.sk-toggleable__label {background-color: #d4ebff;}#sk-container-id-2 div.sk-serial::before {content: \"\";position: absolute;border-left: 1px solid gray;box-sizing: border-box;top: 0;bottom: 0;left: 50%;z-index: 0;}#sk-container-id-2 div.sk-serial {display: flex;flex-direction: column;align-items: center;background-color: white;padding-right: 0.2em;padding-left: 0.2em;position: relative;}#sk-container-id-2 div.sk-item {position: relative;z-index: 1;}#sk-container-id-2 div.sk-parallel {display: flex;align-items: stretch;justify-content: center;background-color: white;position: relative;}#sk-container-id-2 div.sk-item::before, #sk-container-id-2 div.sk-parallel-item::before {content: \"\";position: absolute;border-left: 1px solid gray;box-sizing: border-box;top: 0;bottom: 0;left: 50%;z-index: -1;}#sk-container-id-2 div.sk-parallel-item {display: flex;flex-direction: column;z-index: 1;position: relative;background-color: white;}#sk-container-id-2 div.sk-parallel-item:first-child::after {align-self: flex-end;width: 50%;}#sk-container-id-2 div.sk-parallel-item:last-child::after {align-self: flex-start;width: 50%;}#sk-container-id-2 div.sk-parallel-item:only-child::after {width: 0;}#sk-container-id-2 div.sk-dashed-wrapped {border: 1px dashed gray;margin: 0 0.4em 0.5em 0.4em;box-sizing: border-box;padding-bottom: 0.4em;background-color: white;}#sk-container-id-2 div.sk-label label {font-family: monospace;font-weight: bold;display: inline-block;line-height: 1.2em;}#sk-container-id-2 div.sk-label-container {text-align: center;}#sk-container-id-2 div.sk-container {/* jupyter's `normalize.less` sets `[hidden] { display: none; }` but bootstrap.min.css set `[hidden] { display: none !important; }` so we also need the `!important` here to be able to override the default hidden behavior on the sphinx rendered scikit-learn.org. See: https://github.com/scikit-learn/scikit-learn/issues/21755 */display: inline-block !important;position: relative;}#sk-container-id-2 div.sk-text-repr-fallback {display: none;}</style><div id=\"sk-container-id-2\" class=\"sk-top-container\"><div class=\"sk-text-repr-fallback\"><pre>Pipeline(steps=[(&#x27;columntransformer&#x27;,\n",
       "                 ColumnTransformer(transformers=[(&#x27;standardscaler&#x27;,\n",
       "                                                  StandardScaler(),\n",
       "                                                  [&#x27;lead_time&#x27;,\n",
       "                                                   &#x27;arrival_date_month&#x27;])])),\n",
       "                (&#x27;kneighborsclassifier&#x27;, KNeighborsClassifier(n_neighbors=3))])</pre><b>In a Jupyter environment, please rerun this cell to show the HTML representation or trust the notebook. <br />On GitHub, the HTML representation is unable to render, please try loading this page with nbviewer.org.</b></div><div class=\"sk-container\" hidden><div class=\"sk-item sk-dashed-wrapped\"><div class=\"sk-label-container\"><div class=\"sk-label sk-toggleable\"><input class=\"sk-toggleable__control sk-hidden--visually\" id=\"sk-estimator-id-6\" type=\"checkbox\" ><label for=\"sk-estimator-id-6\" class=\"sk-toggleable__label sk-toggleable__label-arrow\">Pipeline</label><div class=\"sk-toggleable__content\"><pre>Pipeline(steps=[(&#x27;columntransformer&#x27;,\n",
       "                 ColumnTransformer(transformers=[(&#x27;standardscaler&#x27;,\n",
       "                                                  StandardScaler(),\n",
       "                                                  [&#x27;lead_time&#x27;,\n",
       "                                                   &#x27;arrival_date_month&#x27;])])),\n",
       "                (&#x27;kneighborsclassifier&#x27;, KNeighborsClassifier(n_neighbors=3))])</pre></div></div></div><div class=\"sk-serial\"><div class=\"sk-item sk-dashed-wrapped\"><div class=\"sk-label-container\"><div class=\"sk-label sk-toggleable\"><input class=\"sk-toggleable__control sk-hidden--visually\" id=\"sk-estimator-id-7\" type=\"checkbox\" ><label for=\"sk-estimator-id-7\" class=\"sk-toggleable__label sk-toggleable__label-arrow\">columntransformer: ColumnTransformer</label><div class=\"sk-toggleable__content\"><pre>ColumnTransformer(transformers=[(&#x27;standardscaler&#x27;, StandardScaler(),\n",
       "                                 [&#x27;lead_time&#x27;, &#x27;arrival_date_month&#x27;])])</pre></div></div></div><div class=\"sk-parallel\"><div class=\"sk-parallel-item\"><div class=\"sk-item\"><div class=\"sk-label-container\"><div class=\"sk-label sk-toggleable\"><input class=\"sk-toggleable__control sk-hidden--visually\" id=\"sk-estimator-id-8\" type=\"checkbox\" ><label for=\"sk-estimator-id-8\" class=\"sk-toggleable__label sk-toggleable__label-arrow\">standardscaler</label><div class=\"sk-toggleable__content\"><pre>[&#x27;lead_time&#x27;, &#x27;arrival_date_month&#x27;]</pre></div></div></div><div class=\"sk-serial\"><div class=\"sk-item\"><div class=\"sk-estimator sk-toggleable\"><input class=\"sk-toggleable__control sk-hidden--visually\" id=\"sk-estimator-id-9\" type=\"checkbox\" ><label for=\"sk-estimator-id-9\" class=\"sk-toggleable__label sk-toggleable__label-arrow\">StandardScaler</label><div class=\"sk-toggleable__content\"><pre>StandardScaler()</pre></div></div></div></div></div></div></div></div><div class=\"sk-item\"><div class=\"sk-estimator sk-toggleable\"><input class=\"sk-toggleable__control sk-hidden--visually\" id=\"sk-estimator-id-10\" type=\"checkbox\" ><label for=\"sk-estimator-id-10\" class=\"sk-toggleable__label sk-toggleable__label-arrow\">KNeighborsClassifier</label><div class=\"sk-toggleable__content\"><pre>KNeighborsClassifier(n_neighbors=3)</pre></div></div></div></div></div></div></div>"
      ],
      "text/plain": [
       "Pipeline(steps=[('columntransformer',\n",
       "                 ColumnTransformer(transformers=[('standardscaler',\n",
       "                                                  StandardScaler(),\n",
       "                                                  ['lead_time',\n",
       "                                                   'arrival_date_month'])])),\n",
       "                ('kneighborsclassifier', KNeighborsClassifier(n_neighbors=3))])"
      ]
     },
     "execution_count": 32,
     "metadata": {},
     "output_type": "execute_result"
    }
   ],
   "source": [
    "knn_tuned = KNeighborsClassifier(n_neighbors=351) \n",
    "hotel_pipe_tuned = make_pipeline(hotel_preprocessor, knn).fit(X, y)\n",
    "\n",
    "hotel_pipe_tuned"
   ]
  },
  {
   "cell_type": "markdown",
   "id": "8d1a301d-c438-469b-b160-e3114d86e40d",
   "metadata": {
    "tags": []
   },
   "source": [
    "## Part 2: Training to Predict with ADR (Average Daily Rate)"
   ]
  },
  {
   "cell_type": "markdown",
   "id": "27a55980-f6ad-434d-ae22-54ac72679e6e",
   "metadata": {},
   "source": [
    "### Training"
   ]
  },
  {
   "cell_type": "code",
   "execution_count": 33,
   "id": "8357287f-bef7-43d0-83ba-6929db85f23b",
   "metadata": {
    "tags": []
   },
   "outputs": [],
   "source": [
    "hotel_preprocessor_adr = make_column_transformer(\n",
    "    (StandardScaler(), [\"adr\"]),\n",
    ")"
   ]
  },
  {
   "cell_type": "code",
   "execution_count": 34,
   "id": "60ef3e22-b44e-48c9-b417-0cbe44e75b5f",
   "metadata": {
    "tags": []
   },
   "outputs": [
    {
     "data": {
      "text/html": [
       "<style>#sk-container-id-3 {color: black;background-color: white;}#sk-container-id-3 pre{padding: 0;}#sk-container-id-3 div.sk-toggleable {background-color: white;}#sk-container-id-3 label.sk-toggleable__label {cursor: pointer;display: block;width: 100%;margin-bottom: 0;padding: 0.3em;box-sizing: border-box;text-align: center;}#sk-container-id-3 label.sk-toggleable__label-arrow:before {content: \"▸\";float: left;margin-right: 0.25em;color: #696969;}#sk-container-id-3 label.sk-toggleable__label-arrow:hover:before {color: black;}#sk-container-id-3 div.sk-estimator:hover label.sk-toggleable__label-arrow:before {color: black;}#sk-container-id-3 div.sk-toggleable__content {max-height: 0;max-width: 0;overflow: hidden;text-align: left;background-color: #f0f8ff;}#sk-container-id-3 div.sk-toggleable__content pre {margin: 0.2em;color: black;border-radius: 0.25em;background-color: #f0f8ff;}#sk-container-id-3 input.sk-toggleable__control:checked~div.sk-toggleable__content {max-height: 200px;max-width: 100%;overflow: auto;}#sk-container-id-3 input.sk-toggleable__control:checked~label.sk-toggleable__label-arrow:before {content: \"▾\";}#sk-container-id-3 div.sk-estimator input.sk-toggleable__control:checked~label.sk-toggleable__label {background-color: #d4ebff;}#sk-container-id-3 div.sk-label input.sk-toggleable__control:checked~label.sk-toggleable__label {background-color: #d4ebff;}#sk-container-id-3 input.sk-hidden--visually {border: 0;clip: rect(1px 1px 1px 1px);clip: rect(1px, 1px, 1px, 1px);height: 1px;margin: -1px;overflow: hidden;padding: 0;position: absolute;width: 1px;}#sk-container-id-3 div.sk-estimator {font-family: monospace;background-color: #f0f8ff;border: 1px dotted black;border-radius: 0.25em;box-sizing: border-box;margin-bottom: 0.5em;}#sk-container-id-3 div.sk-estimator:hover {background-color: #d4ebff;}#sk-container-id-3 div.sk-parallel-item::after {content: \"\";width: 100%;border-bottom: 1px solid gray;flex-grow: 1;}#sk-container-id-3 div.sk-label:hover label.sk-toggleable__label {background-color: #d4ebff;}#sk-container-id-3 div.sk-serial::before {content: \"\";position: absolute;border-left: 1px solid gray;box-sizing: border-box;top: 0;bottom: 0;left: 50%;z-index: 0;}#sk-container-id-3 div.sk-serial {display: flex;flex-direction: column;align-items: center;background-color: white;padding-right: 0.2em;padding-left: 0.2em;position: relative;}#sk-container-id-3 div.sk-item {position: relative;z-index: 1;}#sk-container-id-3 div.sk-parallel {display: flex;align-items: stretch;justify-content: center;background-color: white;position: relative;}#sk-container-id-3 div.sk-item::before, #sk-container-id-3 div.sk-parallel-item::before {content: \"\";position: absolute;border-left: 1px solid gray;box-sizing: border-box;top: 0;bottom: 0;left: 50%;z-index: -1;}#sk-container-id-3 div.sk-parallel-item {display: flex;flex-direction: column;z-index: 1;position: relative;background-color: white;}#sk-container-id-3 div.sk-parallel-item:first-child::after {align-self: flex-end;width: 50%;}#sk-container-id-3 div.sk-parallel-item:last-child::after {align-self: flex-start;width: 50%;}#sk-container-id-3 div.sk-parallel-item:only-child::after {width: 0;}#sk-container-id-3 div.sk-dashed-wrapped {border: 1px dashed gray;margin: 0 0.4em 0.5em 0.4em;box-sizing: border-box;padding-bottom: 0.4em;background-color: white;}#sk-container-id-3 div.sk-label label {font-family: monospace;font-weight: bold;display: inline-block;line-height: 1.2em;}#sk-container-id-3 div.sk-label-container {text-align: center;}#sk-container-id-3 div.sk-container {/* jupyter's `normalize.less` sets `[hidden] { display: none; }` but bootstrap.min.css set `[hidden] { display: none !important; }` so we also need the `!important` here to be able to override the default hidden behavior on the sphinx rendered scikit-learn.org. See: https://github.com/scikit-learn/scikit-learn/issues/21755 */display: inline-block !important;position: relative;}#sk-container-id-3 div.sk-text-repr-fallback {display: none;}</style><div id=\"sk-container-id-3\" class=\"sk-top-container\"><div class=\"sk-text-repr-fallback\"><pre>Pipeline(steps=[(&#x27;columntransformer&#x27;,\n",
       "                 ColumnTransformer(transformers=[(&#x27;standardscaler&#x27;,\n",
       "                                                  StandardScaler(),\n",
       "                                                  [&#x27;adr&#x27;])])),\n",
       "                (&#x27;kneighborsclassifier&#x27;, KNeighborsClassifier(n_neighbors=3))])</pre><b>In a Jupyter environment, please rerun this cell to show the HTML representation or trust the notebook. <br />On GitHub, the HTML representation is unable to render, please try loading this page with nbviewer.org.</b></div><div class=\"sk-container\" hidden><div class=\"sk-item sk-dashed-wrapped\"><div class=\"sk-label-container\"><div class=\"sk-label sk-toggleable\"><input class=\"sk-toggleable__control sk-hidden--visually\" id=\"sk-estimator-id-11\" type=\"checkbox\" ><label for=\"sk-estimator-id-11\" class=\"sk-toggleable__label sk-toggleable__label-arrow\">Pipeline</label><div class=\"sk-toggleable__content\"><pre>Pipeline(steps=[(&#x27;columntransformer&#x27;,\n",
       "                 ColumnTransformer(transformers=[(&#x27;standardscaler&#x27;,\n",
       "                                                  StandardScaler(),\n",
       "                                                  [&#x27;adr&#x27;])])),\n",
       "                (&#x27;kneighborsclassifier&#x27;, KNeighborsClassifier(n_neighbors=3))])</pre></div></div></div><div class=\"sk-serial\"><div class=\"sk-item sk-dashed-wrapped\"><div class=\"sk-label-container\"><div class=\"sk-label sk-toggleable\"><input class=\"sk-toggleable__control sk-hidden--visually\" id=\"sk-estimator-id-12\" type=\"checkbox\" ><label for=\"sk-estimator-id-12\" class=\"sk-toggleable__label sk-toggleable__label-arrow\">columntransformer: ColumnTransformer</label><div class=\"sk-toggleable__content\"><pre>ColumnTransformer(transformers=[(&#x27;standardscaler&#x27;, StandardScaler(), [&#x27;adr&#x27;])])</pre></div></div></div><div class=\"sk-parallel\"><div class=\"sk-parallel-item\"><div class=\"sk-item\"><div class=\"sk-label-container\"><div class=\"sk-label sk-toggleable\"><input class=\"sk-toggleable__control sk-hidden--visually\" id=\"sk-estimator-id-13\" type=\"checkbox\" ><label for=\"sk-estimator-id-13\" class=\"sk-toggleable__label sk-toggleable__label-arrow\">standardscaler</label><div class=\"sk-toggleable__content\"><pre>[&#x27;adr&#x27;]</pre></div></div></div><div class=\"sk-serial\"><div class=\"sk-item\"><div class=\"sk-estimator sk-toggleable\"><input class=\"sk-toggleable__control sk-hidden--visually\" id=\"sk-estimator-id-14\" type=\"checkbox\" ><label for=\"sk-estimator-id-14\" class=\"sk-toggleable__label sk-toggleable__label-arrow\">StandardScaler</label><div class=\"sk-toggleable__content\"><pre>StandardScaler()</pre></div></div></div></div></div></div></div></div><div class=\"sk-item\"><div class=\"sk-estimator sk-toggleable\"><input class=\"sk-toggleable__control sk-hidden--visually\" id=\"sk-estimator-id-15\" type=\"checkbox\" ><label for=\"sk-estimator-id-15\" class=\"sk-toggleable__label sk-toggleable__label-arrow\">KNeighborsClassifier</label><div class=\"sk-toggleable__content\"><pre>KNeighborsClassifier(n_neighbors=3)</pre></div></div></div></div></div></div></div>"
      ],
      "text/plain": [
       "Pipeline(steps=[('columntransformer',\n",
       "                 ColumnTransformer(transformers=[('standardscaler',\n",
       "                                                  StandardScaler(),\n",
       "                                                  ['adr'])])),\n",
       "                ('kneighborsclassifier', KNeighborsClassifier(n_neighbors=3))])"
      ]
     },
     "execution_count": 34,
     "metadata": {},
     "output_type": "execute_result"
    }
   ],
   "source": [
    "knn_adr = KNeighborsClassifier(n_neighbors=3) \n",
    "\n",
    "X_adr = clean_hotel_training[[\"adr\"]]\n",
    "y_adr = clean_hotel_training[\"is_canceled\"]\n",
    "\n",
    "X_adr_test = clean_hotel_testing[[\"adr\"]]\n",
    "y_adr_test = clean_hotel_testing[\"is_canceled\"]\n",
    "\n",
    "hotel_pipe_adr = make_pipeline(hotel_preprocessor_adr, knn_adr).fit(X_adr, y_adr)\n",
    "hotel_pipe_adr"
   ]
  },
  {
   "cell_type": "markdown",
   "id": "250afa73-710d-4f6c-a6f4-266951560fe0",
   "metadata": {
    "tags": []
   },
   "source": [
    "### Finetuning"
   ]
  },
  {
   "cell_type": "code",
   "execution_count": 35,
   "id": "5e69d2fe-0c0e-4d84-8960-711987bd43b7",
   "metadata": {
    "tags": []
   },
   "outputs": [],
   "source": [
    "param_grid_adr = {\"kneighborsclassifier__n_neighbors\": range(1,1200,50)}\n",
    "\n",
    "hotel_tune_grid_adr = GridSearchCV(\n",
    "    estimator=hotel_pipe_adr,\n",
    "    param_grid=param_grid_adr,\n",
    "    cv=5\n",
    ")"
   ]
  },
  {
   "cell_type": "code",
   "execution_count": 36,
   "id": "78a51472-5993-4155-aba5-13e891364268",
   "metadata": {
    "tags": []
   },
   "outputs": [],
   "source": [
    "acc_grid_adr = pd.DataFrame(hotel_tune_grid_adr.fit(X_adr,y_adr).cv_results_)\n",
    "acc_grid_adr = acc_grid_adr.rename(columns={\"param_kneighborsclassifier__n_neighbors\":\"n_neighbors\"})"
   ]
  },
  {
   "cell_type": "code",
   "execution_count": 37,
   "id": "a8145427-127d-4b83-8be0-7eaaf08b294b",
   "metadata": {
    "tags": []
   },
   "outputs": [
    {
     "data": {
      "text/html": [
       "\n",
       "<div id=\"altair-viz-cc237df327394374922d076a456001ef\"></div>\n",
       "<script type=\"text/javascript\">\n",
       "  var VEGA_DEBUG = (typeof VEGA_DEBUG == \"undefined\") ? {} : VEGA_DEBUG;\n",
       "  (function(spec, embedOpt){\n",
       "    let outputDiv = document.currentScript.previousElementSibling;\n",
       "    if (outputDiv.id !== \"altair-viz-cc237df327394374922d076a456001ef\") {\n",
       "      outputDiv = document.getElementById(\"altair-viz-cc237df327394374922d076a456001ef\");\n",
       "    }\n",
       "    const paths = {\n",
       "      \"vega\": \"https://cdn.jsdelivr.net/npm//vega@5?noext\",\n",
       "      \"vega-lib\": \"https://cdn.jsdelivr.net/npm//vega-lib?noext\",\n",
       "      \"vega-lite\": \"https://cdn.jsdelivr.net/npm//vega-lite@4.17.0?noext\",\n",
       "      \"vega-embed\": \"https://cdn.jsdelivr.net/npm//vega-embed@6?noext\",\n",
       "    };\n",
       "\n",
       "    function maybeLoadScript(lib, version) {\n",
       "      var key = `${lib.replace(\"-\", \"\")}_version`;\n",
       "      return (VEGA_DEBUG[key] == version) ?\n",
       "        Promise.resolve(paths[lib]) :\n",
       "        new Promise(function(resolve, reject) {\n",
       "          var s = document.createElement('script');\n",
       "          document.getElementsByTagName(\"head\")[0].appendChild(s);\n",
       "          s.async = true;\n",
       "          s.onload = () => {\n",
       "            VEGA_DEBUG[key] = version;\n",
       "            return resolve(paths[lib]);\n",
       "          };\n",
       "          s.onerror = () => reject(`Error loading script: ${paths[lib]}`);\n",
       "          s.src = paths[lib];\n",
       "        });\n",
       "    }\n",
       "\n",
       "    function showError(err) {\n",
       "      outputDiv.innerHTML = `<div class=\"error\" style=\"color:red;\">${err}</div>`;\n",
       "      throw err;\n",
       "    }\n",
       "\n",
       "    function displayChart(vegaEmbed) {\n",
       "      vegaEmbed(outputDiv, spec, embedOpt)\n",
       "        .catch(err => showError(`Javascript Error: ${err.message}<br>This usually means there's a typo in your chart specification. See the javascript console for the full traceback.`));\n",
       "    }\n",
       "\n",
       "    if(typeof define === \"function\" && define.amd) {\n",
       "      requirejs.config({paths});\n",
       "      require([\"vega-embed\"], displayChart, err => showError(`Error loading script: ${err.message}`));\n",
       "    } else {\n",
       "      maybeLoadScript(\"vega\", \"5\")\n",
       "        .then(() => maybeLoadScript(\"vega-lite\", \"4.17.0\"))\n",
       "        .then(() => maybeLoadScript(\"vega-embed\", \"6\"))\n",
       "        .catch(showError)\n",
       "        .then(() => displayChart(vegaEmbed));\n",
       "    }\n",
       "  })({\"config\": {\"view\": {\"continuousWidth\": 400, \"continuousHeight\": 300}}, \"data\": {\"name\": \"data-7c6b3d818b70c23ca5ed13a8affb0373\"}, \"mark\": {\"type\": \"line\", \"point\": true}, \"encoding\": {\"x\": {\"field\": \"n_neighbors\", \"type\": \"quantitative\"}, \"y\": {\"field\": \"mean_test_score\", \"scale\": {\"domain\": [0.5, 0.65]}, \"type\": \"quantitative\"}}, \"$schema\": \"https://vega.github.io/schema/vega-lite/v4.17.0.json\", \"datasets\": {\"data-7c6b3d818b70c23ca5ed13a8affb0373\": [{\"mean_fit_time\": 0.006806087493896484, \"std_fit_time\": 0.0005204112664012634, \"mean_score_time\": 0.03288731575012207, \"std_score_time\": 0.0023891415427344433, \"n_neighbors\": 1, \"params\": {\"kneighborsclassifier__n_neighbors\": 1}, \"split0_test_score\": 0.5973333333333334, \"split1_test_score\": 0.5826666666666667, \"split2_test_score\": 0.6533333333333333, \"split3_test_score\": 0.612, \"split4_test_score\": 0.5693333333333334, \"mean_test_score\": 0.6029333333333333, \"std_test_score\": 0.02896004910984171, \"rank_test_score\": 2}, {\"mean_fit_time\": 0.006402063369750977, \"std_fit_time\": 0.0001196359057896714, \"mean_score_time\": 0.03802413940429687, \"std_score_time\": 0.0032639410598377517, \"n_neighbors\": 51, \"params\": {\"kneighborsclassifier__n_neighbors\": 51}, \"split0_test_score\": 0.5693333333333334, \"split1_test_score\": 0.6213333333333333, \"split2_test_score\": 0.624, \"split3_test_score\": 0.6173333333333333, \"split4_test_score\": 0.5946666666666667, \"mean_test_score\": 0.6053333333333333, \"std_test_score\": 0.0207760545928346, \"rank_test_score\": 1}, {\"mean_fit_time\": 0.006675291061401367, \"std_fit_time\": 0.0007594555554571047, \"mean_score_time\": 0.04419231414794922, \"std_score_time\": 0.0036337679853630745, \"n_neighbors\": 101, \"params\": {\"kneighborsclassifier__n_neighbors\": 101}, \"split0_test_score\": 0.5746666666666667, \"split1_test_score\": 0.5986666666666667, \"split2_test_score\": 0.5933333333333334, \"split3_test_score\": 0.5786666666666667, \"split4_test_score\": 0.576, \"mean_test_score\": 0.5842666666666667, \"std_test_score\": 0.009812463729586208, \"rank_test_score\": 3}, {\"mean_fit_time\": 0.0064361572265625, \"std_fit_time\": 0.00015775070459973312, \"mean_score_time\": 0.04726457595825195, \"std_score_time\": 0.0006040551965795104, \"n_neighbors\": 151, \"params\": {\"kneighborsclassifier__n_neighbors\": 151}, \"split0_test_score\": 0.584, \"split1_test_score\": 0.596, \"split2_test_score\": 0.584, \"split3_test_score\": 0.5706666666666667, \"split4_test_score\": 0.572, \"mean_test_score\": 0.5813333333333333, \"std_test_score\": 0.009276014469827246, \"rank_test_score\": 4}, {\"mean_fit_time\": 0.007380628585815429, \"std_fit_time\": 0.0009248490009772098, \"mean_score_time\": 0.05890102386474609, \"std_score_time\": 0.005439635268464559, \"n_neighbors\": 201, \"params\": {\"kneighborsclassifier__n_neighbors\": 201}, \"split0_test_score\": 0.5666666666666667, \"split1_test_score\": 0.5746666666666667, \"split2_test_score\": 0.5626666666666666, \"split3_test_score\": 0.592, \"split4_test_score\": 0.588, \"mean_test_score\": 0.5768, \"std_test_score\": 0.011519259235442753, \"rank_test_score\": 5}, {\"mean_fit_time\": 0.007246208190917969, \"std_fit_time\": 0.0009903661250066102, \"mean_score_time\": 0.07413725852966309, \"std_score_time\": 0.009848239672865737, \"n_neighbors\": 251, \"params\": {\"kneighborsclassifier__n_neighbors\": 251}, \"split0_test_score\": 0.5613333333333334, \"split1_test_score\": 0.5973333333333334, \"split2_test_score\": 0.572, \"split3_test_score\": 0.5866666666666667, \"split4_test_score\": 0.5546666666666666, \"mean_test_score\": 0.5744, \"std_test_score\": 0.015762684486540446, \"rank_test_score\": 7}, {\"mean_fit_time\": 0.006651687622070313, \"std_fit_time\": 0.0004704344133037739, \"mean_score_time\": 0.06959171295166015, \"std_score_time\": 0.0027953522257588353, \"n_neighbors\": 301, \"params\": {\"kneighborsclassifier__n_neighbors\": 301}, \"split0_test_score\": 0.564, \"split1_test_score\": 0.5866666666666667, \"split2_test_score\": 0.588, \"split3_test_score\": 0.5746666666666667, \"split4_test_score\": 0.5613333333333334, \"mean_test_score\": 0.5749333333333333, \"std_test_score\": 0.011072287729080903, \"rank_test_score\": 6}, {\"mean_fit_time\": 0.006883764266967773, \"std_fit_time\": 0.000522819590665607, \"mean_score_time\": 0.07665004730224609, \"std_score_time\": 0.003856515252661025, \"n_neighbors\": 351, \"params\": {\"kneighborsclassifier__n_neighbors\": 351}, \"split0_test_score\": 0.564, \"split1_test_score\": 0.6013333333333334, \"split2_test_score\": 0.5786666666666667, \"split3_test_score\": 0.5786666666666667, \"split4_test_score\": 0.5466666666666666, \"mean_test_score\": 0.5738666666666667, \"std_test_score\": 0.018098004801020993, \"rank_test_score\": 8}, {\"mean_fit_time\": 0.009465885162353516, \"std_fit_time\": 0.00480240532166505, \"mean_score_time\": 0.11097373962402343, \"std_score_time\": 0.023747527077179538, \"n_neighbors\": 401, \"params\": {\"kneighborsclassifier__n_neighbors\": 401}, \"split0_test_score\": 0.5546666666666666, \"split1_test_score\": 0.5693333333333334, \"split2_test_score\": 0.572, \"split3_test_score\": 0.576, \"split4_test_score\": 0.544, \"mean_test_score\": 0.5632, \"std_test_score\": 0.012002962597255336, \"rank_test_score\": 9}, {\"mean_fit_time\": 0.009500694274902344, \"std_fit_time\": 0.005437331995675048, \"mean_score_time\": 0.13429899215698243, \"std_score_time\": 0.05877656773528833, \"n_neighbors\": 451, \"params\": {\"kneighborsclassifier__n_neighbors\": 451}, \"split0_test_score\": 0.5333333333333333, \"split1_test_score\": 0.5826666666666667, \"split2_test_score\": 0.5506666666666666, \"split3_test_score\": 0.5626666666666666, \"split4_test_score\": 0.5466666666666666, \"mean_test_score\": 0.5551999999999999, \"std_test_score\": 0.016623410533875952, \"rank_test_score\": 10}, {\"mean_fit_time\": 0.007764291763305664, \"std_fit_time\": 0.0019242006502514196, \"mean_score_time\": 0.10741715431213379, \"std_score_time\": 0.014865600217016807, \"n_neighbors\": 501, \"params\": {\"kneighborsclassifier__n_neighbors\": 501}, \"split0_test_score\": 0.5226666666666666, \"split1_test_score\": 0.5613333333333334, \"split2_test_score\": 0.5786666666666667, \"split3_test_score\": 0.5613333333333334, \"split4_test_score\": 0.54, \"mean_test_score\": 0.5528000000000001, \"std_test_score\": 0.01942461210823928, \"rank_test_score\": 12}, {\"mean_fit_time\": 0.008052539825439454, \"std_fit_time\": 0.0012040084177783396, \"mean_score_time\": 0.10991439819335938, \"std_score_time\": 0.005782183606064565, \"n_neighbors\": 551, \"params\": {\"kneighborsclassifier__n_neighbors\": 551}, \"split0_test_score\": 0.5386666666666666, \"split1_test_score\": 0.564, \"split2_test_score\": 0.5506666666666666, \"split3_test_score\": 0.56, \"split4_test_score\": 0.5533333333333333, \"mean_test_score\": 0.5533333333333332, \"std_test_score\": 0.008722894524691278, \"rank_test_score\": 11}, {\"mean_fit_time\": 0.007547903060913086, \"std_fit_time\": 0.0011684147408677903, \"mean_score_time\": 0.10899844169616699, \"std_score_time\": 0.003983200954110252, \"n_neighbors\": 601, \"params\": {\"kneighborsclassifier__n_neighbors\": 601}, \"split0_test_score\": 0.5506666666666666, \"split1_test_score\": 0.5253333333333333, \"split2_test_score\": 0.5546666666666666, \"split3_test_score\": 0.568, \"split4_test_score\": 0.54, \"mean_test_score\": 0.5477333333333333, \"std_test_score\": 0.0143455761667336, \"rank_test_score\": 13}, {\"mean_fit_time\": 0.01263132095336914, \"std_fit_time\": 0.011640051152998198, \"mean_score_time\": 0.1428889274597168, \"std_score_time\": 0.03475561854045954, \"n_neighbors\": 651, \"params\": {\"kneighborsclassifier__n_neighbors\": 651}, \"split0_test_score\": 0.5133333333333333, \"split1_test_score\": 0.5386666666666666, \"split2_test_score\": 0.536, \"split3_test_score\": 0.54, \"split4_test_score\": 0.5466666666666666, \"mean_test_score\": 0.5349333333333334, \"std_test_score\": 0.011357621034158326, \"rank_test_score\": 21}, {\"mean_fit_time\": 0.008618736267089843, \"std_fit_time\": 0.0008373376257884811, \"mean_score_time\": 0.17001428604125976, \"std_score_time\": 0.025214068570073626, \"n_neighbors\": 701, \"params\": {\"kneighborsclassifier__n_neighbors\": 701}, \"split0_test_score\": 0.536, \"split1_test_score\": 0.5453333333333333, \"split2_test_score\": 0.548, \"split3_test_score\": 0.5426666666666666, \"split4_test_score\": 0.548, \"mean_test_score\": 0.5439999999999999, \"std_test_score\": 0.004462186808181743, \"rank_test_score\": 17}, {\"mean_fit_time\": 0.007250022888183594, \"std_fit_time\": 0.0007472793562837552, \"mean_score_time\": 0.14073853492736815, \"std_score_time\": 0.007199839407724815, \"n_neighbors\": 751, \"params\": {\"kneighborsclassifier__n_neighbors\": 751}, \"split0_test_score\": 0.54, \"split1_test_score\": 0.5506666666666666, \"split2_test_score\": 0.548, \"split3_test_score\": 0.5426666666666666, \"split4_test_score\": 0.5453333333333333, \"mean_test_score\": 0.5453333333333333, \"std_test_score\": 0.0037712361663282466, \"rank_test_score\": 14}, {\"mean_fit_time\": 0.007033348083496094, \"std_fit_time\": 0.0003593398127282805, \"mean_score_time\": 0.14932475090026856, \"std_score_time\": 0.007686323052972572, \"n_neighbors\": 801, \"params\": {\"kneighborsclassifier__n_neighbors\": 801}, \"split0_test_score\": 0.5386666666666666, \"split1_test_score\": 0.5346666666666666, \"split2_test_score\": 0.536, \"split3_test_score\": 0.5586666666666666, \"split4_test_score\": 0.5586666666666666, \"mean_test_score\": 0.5453333333333333, \"std_test_score\": 0.010962562555250379, \"rank_test_score\": 14}, {\"mean_fit_time\": 0.006884765625, \"std_fit_time\": 0.0004104574650445741, \"mean_score_time\": 0.16573553085327147, \"std_score_time\": 0.018271584069758318, \"n_neighbors\": 851, \"params\": {\"kneighborsclassifier__n_neighbors\": 851}, \"split0_test_score\": 0.556, \"split1_test_score\": 0.532, \"split2_test_score\": 0.54, \"split3_test_score\": 0.5493333333333333, \"split4_test_score\": 0.5493333333333333, \"mean_test_score\": 0.5453333333333333, \"std_test_score\": 0.008390470785361212, \"rank_test_score\": 14}, {\"mean_fit_time\": 0.006318521499633789, \"std_fit_time\": 7.462500002437351e-05, \"mean_score_time\": 0.19337430000305175, \"std_score_time\": 0.026620465727410555, \"n_neighbors\": 901, \"params\": {\"kneighborsclassifier__n_neighbors\": 901}, \"split0_test_score\": 0.532, \"split1_test_score\": 0.5333333333333333, \"split2_test_score\": 0.5426666666666666, \"split3_test_score\": 0.5333333333333333, \"split4_test_score\": 0.56, \"mean_test_score\": 0.5402666666666667, \"std_test_score\": 0.01057964502660128, \"rank_test_score\": 19}, {\"mean_fit_time\": 0.006672859191894531, \"std_fit_time\": 0.0005986914693174296, \"mean_score_time\": 0.169310998916626, \"std_score_time\": 0.007262721690649137, \"n_neighbors\": 951, \"params\": {\"kneighborsclassifier__n_neighbors\": 951}, \"split0_test_score\": 0.52, \"split1_test_score\": 0.528, \"split2_test_score\": 0.536, \"split3_test_score\": 0.5373333333333333, \"split4_test_score\": 0.5293333333333333, \"mean_test_score\": 0.5301333333333333, \"std_test_score\": 0.00623110477095889, \"rank_test_score\": 24}, {\"mean_fit_time\": 0.006788825988769532, \"std_fit_time\": 0.0005920066228996173, \"mean_score_time\": 0.18341360092163086, \"std_score_time\": 0.02034308722573365, \"n_neighbors\": 1001, \"params\": {\"kneighborsclassifier__n_neighbors\": 1001}, \"split0_test_score\": 0.508, \"split1_test_score\": 0.5333333333333333, \"split2_test_score\": 0.544, \"split3_test_score\": 0.5253333333333333, \"split4_test_score\": 0.5506666666666666, \"mean_test_score\": 0.5322666666666667, \"std_test_score\": 0.014928570669096962, \"rank_test_score\": 23}, {\"mean_fit_time\": 0.007283926010131836, \"std_fit_time\": 0.0009429874061204984, \"mean_score_time\": 0.18670763969421386, \"std_score_time\": 0.02343352424767513, \"n_neighbors\": 1051, \"params\": {\"kneighborsclassifier__n_neighbors\": 1051}, \"split0_test_score\": 0.508, \"split1_test_score\": 0.528, \"split2_test_score\": 0.552, \"split3_test_score\": 0.5346666666666666, \"split4_test_score\": 0.5453333333333333, \"mean_test_score\": 0.5336, \"std_test_score\": 0.01525836746764797, \"rank_test_score\": 22}, {\"mean_fit_time\": 0.008480978012084962, \"std_fit_time\": 0.004377371032249586, \"mean_score_time\": 0.22039990425109862, \"std_score_time\": 0.03172175021434928, \"n_neighbors\": 1101, \"params\": {\"kneighborsclassifier__n_neighbors\": 1101}, \"split0_test_score\": 0.5373333333333333, \"split1_test_score\": 0.54, \"split2_test_score\": 0.548, \"split3_test_score\": 0.5333333333333333, \"split4_test_score\": 0.5186666666666667, \"mean_test_score\": 0.5354666666666666, \"std_test_score\": 0.009673790478515758, \"rank_test_score\": 20}, {\"mean_fit_time\": 0.00856781005859375, \"std_fit_time\": 0.0020071029866998054, \"mean_score_time\": 0.2323314666748047, \"std_score_time\": 0.053353759866473914, \"n_neighbors\": 1151, \"params\": {\"kneighborsclassifier__n_neighbors\": 1151}, \"split0_test_score\": 0.5173333333333333, \"split1_test_score\": 0.544, \"split2_test_score\": 0.5413333333333333, \"split3_test_score\": 0.556, \"split4_test_score\": 0.5573333333333333, \"mean_test_score\": 0.5431999999999999, \"std_test_score\": 0.014400000000000019, \"rank_test_score\": 18}]}}, {\"mode\": \"vega-lite\"});\n",
       "</script>"
      ],
      "text/plain": [
       "alt.Chart(...)"
      ]
     },
     "execution_count": 37,
     "metadata": {},
     "output_type": "execute_result"
    }
   ],
   "source": [
    "accuracy_vs_k_adr = alt.Chart(acc_grid_adr).mark_line(point=True).encode(\n",
    "    x=alt.X(\"n_neighbors\"),\n",
    "    y=alt.Y(\"mean_test_score\", scale=alt.Scale(domain=(0.5, 0.65)))\n",
    ")\n",
    "accuracy_vs_k_adr"
   ]
  },
  {
   "cell_type": "code",
   "execution_count": 38,
   "id": "afeee6d5-b3e7-461a-a4b5-eb9f6fb971f9",
   "metadata": {
    "tags": []
   },
   "outputs": [
    {
     "data": {
      "text/plain": [
       "951"
      ]
     },
     "execution_count": 38,
     "metadata": {},
     "output_type": "execute_result"
    }
   ],
   "source": [
    "acc_grid_adr = acc_grid_adr.sort_values(by=\"mean_test_score\",ascending=True)\n",
    "best_n_adr = acc_grid_adr.iloc[0].n_neighbors\n",
    "best_n_adr"
   ]
  },
  {
   "cell_type": "code",
   "execution_count": 39,
   "id": "d1dc9a0f-13a5-456e-bd5a-e8c475d4ee41",
   "metadata": {
    "tags": []
   },
   "outputs": [
    {
     "data": {
      "text/html": [
       "<style>#sk-container-id-4 {color: black;background-color: white;}#sk-container-id-4 pre{padding: 0;}#sk-container-id-4 div.sk-toggleable {background-color: white;}#sk-container-id-4 label.sk-toggleable__label {cursor: pointer;display: block;width: 100%;margin-bottom: 0;padding: 0.3em;box-sizing: border-box;text-align: center;}#sk-container-id-4 label.sk-toggleable__label-arrow:before {content: \"▸\";float: left;margin-right: 0.25em;color: #696969;}#sk-container-id-4 label.sk-toggleable__label-arrow:hover:before {color: black;}#sk-container-id-4 div.sk-estimator:hover label.sk-toggleable__label-arrow:before {color: black;}#sk-container-id-4 div.sk-toggleable__content {max-height: 0;max-width: 0;overflow: hidden;text-align: left;background-color: #f0f8ff;}#sk-container-id-4 div.sk-toggleable__content pre {margin: 0.2em;color: black;border-radius: 0.25em;background-color: #f0f8ff;}#sk-container-id-4 input.sk-toggleable__control:checked~div.sk-toggleable__content {max-height: 200px;max-width: 100%;overflow: auto;}#sk-container-id-4 input.sk-toggleable__control:checked~label.sk-toggleable__label-arrow:before {content: \"▾\";}#sk-container-id-4 div.sk-estimator input.sk-toggleable__control:checked~label.sk-toggleable__label {background-color: #d4ebff;}#sk-container-id-4 div.sk-label input.sk-toggleable__control:checked~label.sk-toggleable__label {background-color: #d4ebff;}#sk-container-id-4 input.sk-hidden--visually {border: 0;clip: rect(1px 1px 1px 1px);clip: rect(1px, 1px, 1px, 1px);height: 1px;margin: -1px;overflow: hidden;padding: 0;position: absolute;width: 1px;}#sk-container-id-4 div.sk-estimator {font-family: monospace;background-color: #f0f8ff;border: 1px dotted black;border-radius: 0.25em;box-sizing: border-box;margin-bottom: 0.5em;}#sk-container-id-4 div.sk-estimator:hover {background-color: #d4ebff;}#sk-container-id-4 div.sk-parallel-item::after {content: \"\";width: 100%;border-bottom: 1px solid gray;flex-grow: 1;}#sk-container-id-4 div.sk-label:hover label.sk-toggleable__label {background-color: #d4ebff;}#sk-container-id-4 div.sk-serial::before {content: \"\";position: absolute;border-left: 1px solid gray;box-sizing: border-box;top: 0;bottom: 0;left: 50%;z-index: 0;}#sk-container-id-4 div.sk-serial {display: flex;flex-direction: column;align-items: center;background-color: white;padding-right: 0.2em;padding-left: 0.2em;position: relative;}#sk-container-id-4 div.sk-item {position: relative;z-index: 1;}#sk-container-id-4 div.sk-parallel {display: flex;align-items: stretch;justify-content: center;background-color: white;position: relative;}#sk-container-id-4 div.sk-item::before, #sk-container-id-4 div.sk-parallel-item::before {content: \"\";position: absolute;border-left: 1px solid gray;box-sizing: border-box;top: 0;bottom: 0;left: 50%;z-index: -1;}#sk-container-id-4 div.sk-parallel-item {display: flex;flex-direction: column;z-index: 1;position: relative;background-color: white;}#sk-container-id-4 div.sk-parallel-item:first-child::after {align-self: flex-end;width: 50%;}#sk-container-id-4 div.sk-parallel-item:last-child::after {align-self: flex-start;width: 50%;}#sk-container-id-4 div.sk-parallel-item:only-child::after {width: 0;}#sk-container-id-4 div.sk-dashed-wrapped {border: 1px dashed gray;margin: 0 0.4em 0.5em 0.4em;box-sizing: border-box;padding-bottom: 0.4em;background-color: white;}#sk-container-id-4 div.sk-label label {font-family: monospace;font-weight: bold;display: inline-block;line-height: 1.2em;}#sk-container-id-4 div.sk-label-container {text-align: center;}#sk-container-id-4 div.sk-container {/* jupyter's `normalize.less` sets `[hidden] { display: none; }` but bootstrap.min.css set `[hidden] { display: none !important; }` so we also need the `!important` here to be able to override the default hidden behavior on the sphinx rendered scikit-learn.org. See: https://github.com/scikit-learn/scikit-learn/issues/21755 */display: inline-block !important;position: relative;}#sk-container-id-4 div.sk-text-repr-fallback {display: none;}</style><div id=\"sk-container-id-4\" class=\"sk-top-container\"><div class=\"sk-text-repr-fallback\"><pre>Pipeline(steps=[(&#x27;columntransformer&#x27;,\n",
       "                 ColumnTransformer(transformers=[(&#x27;standardscaler&#x27;,\n",
       "                                                  StandardScaler(),\n",
       "                                                  [&#x27;adr&#x27;])])),\n",
       "                (&#x27;kneighborsclassifier&#x27;, KNeighborsClassifier(n_neighbors=3))])</pre><b>In a Jupyter environment, please rerun this cell to show the HTML representation or trust the notebook. <br />On GitHub, the HTML representation is unable to render, please try loading this page with nbviewer.org.</b></div><div class=\"sk-container\" hidden><div class=\"sk-item sk-dashed-wrapped\"><div class=\"sk-label-container\"><div class=\"sk-label sk-toggleable\"><input class=\"sk-toggleable__control sk-hidden--visually\" id=\"sk-estimator-id-16\" type=\"checkbox\" ><label for=\"sk-estimator-id-16\" class=\"sk-toggleable__label sk-toggleable__label-arrow\">Pipeline</label><div class=\"sk-toggleable__content\"><pre>Pipeline(steps=[(&#x27;columntransformer&#x27;,\n",
       "                 ColumnTransformer(transformers=[(&#x27;standardscaler&#x27;,\n",
       "                                                  StandardScaler(),\n",
       "                                                  [&#x27;adr&#x27;])])),\n",
       "                (&#x27;kneighborsclassifier&#x27;, KNeighborsClassifier(n_neighbors=3))])</pre></div></div></div><div class=\"sk-serial\"><div class=\"sk-item sk-dashed-wrapped\"><div class=\"sk-label-container\"><div class=\"sk-label sk-toggleable\"><input class=\"sk-toggleable__control sk-hidden--visually\" id=\"sk-estimator-id-17\" type=\"checkbox\" ><label for=\"sk-estimator-id-17\" class=\"sk-toggleable__label sk-toggleable__label-arrow\">columntransformer: ColumnTransformer</label><div class=\"sk-toggleable__content\"><pre>ColumnTransformer(transformers=[(&#x27;standardscaler&#x27;, StandardScaler(), [&#x27;adr&#x27;])])</pre></div></div></div><div class=\"sk-parallel\"><div class=\"sk-parallel-item\"><div class=\"sk-item\"><div class=\"sk-label-container\"><div class=\"sk-label sk-toggleable\"><input class=\"sk-toggleable__control sk-hidden--visually\" id=\"sk-estimator-id-18\" type=\"checkbox\" ><label for=\"sk-estimator-id-18\" class=\"sk-toggleable__label sk-toggleable__label-arrow\">standardscaler</label><div class=\"sk-toggleable__content\"><pre>[&#x27;adr&#x27;]</pre></div></div></div><div class=\"sk-serial\"><div class=\"sk-item\"><div class=\"sk-estimator sk-toggleable\"><input class=\"sk-toggleable__control sk-hidden--visually\" id=\"sk-estimator-id-19\" type=\"checkbox\" ><label for=\"sk-estimator-id-19\" class=\"sk-toggleable__label sk-toggleable__label-arrow\">StandardScaler</label><div class=\"sk-toggleable__content\"><pre>StandardScaler()</pre></div></div></div></div></div></div></div></div><div class=\"sk-item\"><div class=\"sk-estimator sk-toggleable\"><input class=\"sk-toggleable__control sk-hidden--visually\" id=\"sk-estimator-id-20\" type=\"checkbox\" ><label for=\"sk-estimator-id-20\" class=\"sk-toggleable__label sk-toggleable__label-arrow\">KNeighborsClassifier</label><div class=\"sk-toggleable__content\"><pre>KNeighborsClassifier(n_neighbors=3)</pre></div></div></div></div></div></div></div>"
      ],
      "text/plain": [
       "Pipeline(steps=[('columntransformer',\n",
       "                 ColumnTransformer(transformers=[('standardscaler',\n",
       "                                                  StandardScaler(),\n",
       "                                                  ['adr'])])),\n",
       "                ('kneighborsclassifier', KNeighborsClassifier(n_neighbors=3))])"
      ]
     },
     "execution_count": 39,
     "metadata": {},
     "output_type": "execute_result"
    }
   ],
   "source": [
    "knn_tuned_adr = KNeighborsClassifier(n_neighbors=951) \n",
    "hotel_pipe_tuned_adr = make_pipeline(hotel_preprocessor_adr, knn_adr).fit(X_adr, y_adr)\n",
    "hotel_pipe_tuned_adr"
   ]
  },
  {
   "cell_type": "markdown",
   "id": "b3f589db-43a6-45d2-a3ec-1453aff68bf7",
   "metadata": {
    "tags": []
   },
   "source": [
    "## Part 3: Classifying a new Data Point"
   ]
  },
  {
   "cell_type": "code",
   "execution_count": null,
   "id": "3d86e5b4-9c2f-4497-b1a0-251193b4fe16",
   "metadata": {},
   "outputs": [],
   "source": []
  },
  {
   "cell_type": "markdown",
   "id": "12073ddf",
   "metadata": {
    "tags": []
   },
   "source": [
    "## Discussion"
   ]
  },
  {
   "cell_type": "markdown",
   "id": "866743db-031f-4671-a45b-dbbda4d43e06",
   "metadata": {},
   "source": [
    "\n",
    "\n",
    "\n",
    "-------------------------------------------------------------------------------------------------------------------------------\n",
    "Discussion:\n",
    "summarize what you found\n",
    "discuss whether this is what you expected to find?\n",
    "discuss what impact could such findings have?\n",
    "discuss what future questions could this lead to?\n"
   ]
  },
  {
   "cell_type": "markdown",
   "id": "1c007b75-b626-465b-abf1-5b80dced3279",
   "metadata": {},
   "source": [
    "## References"
   ]
  },
  {
   "cell_type": "markdown",
   "id": "c6175c17-a655-4450-a920-11489f8d726f",
   "metadata": {
    "tags": []
   },
   "source": [
    "Saad Haron. 2023. Hotel Booking Dataset Version 1 [Data File]. \n",
    "Retrieved from https://www.kaggle.com/datasets/saadharoon27/hotel-booking-dataset/data"
   ]
  }
 ],
 "metadata": {
  "kernelspec": {
   "display_name": "Python 3 (ipykernel)",
   "language": "python",
   "name": "python3"
  },
  "language_info": {
   "codemirror_mode": {
    "name": "ipython",
    "version": 3
   },
   "file_extension": ".py",
   "mimetype": "text/x-python",
   "name": "python",
   "nbconvert_exporter": "python",
   "pygments_lexer": "ipython3",
   "version": "3.10.8"
  }
 },
 "nbformat": 4,
 "nbformat_minor": 5
}
